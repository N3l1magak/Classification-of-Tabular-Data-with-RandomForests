{
 "cells": [
  {
   "cell_type": "code",
   "execution_count": 111,
   "id": "492ec87b",
   "metadata": {},
   "outputs": [],
   "source": [
    "import pandas as pd\n",
    "import seaborn as sns\n",
    "import numpy as np\n",
    "import matplotlib.pyplot as plt\n",
    "from sklearn import metrics\n",
    "from sklearn.metrics import confusion_matrix\n",
    "from sklearn import model_selection as ms\n",
    "from sklearn.model_selection import train_test_split\n",
    "from sklearn.preprocessing import MinMaxScaler\n",
    "from sklearn.ensemble import RandomForestClassifier\n",
    "from sklearn.ensemble import GradientBoostingClassifier\n",
    "from sklearn.linear_model import LogisticRegression\n",
    "from imblearn.datasets import make_imbalance"
   ]
  },
  {
   "cell_type": "markdown",
   "id": "6d5eb2d6",
   "metadata": {},
   "source": [
    "__1. Load csv correctly into a DataFrame and show contents in a cell__"
   ]
  },
  {
   "cell_type": "code",
   "execution_count": 63,
   "id": "8372c33e",
   "metadata": {},
   "outputs": [],
   "source": [
    "df = pd.read_csv(\"online_shoppers_intention_cs4364.csv\")"
   ]
  },
  {
   "cell_type": "code",
   "execution_count": 64,
   "id": "c53c1a27",
   "metadata": {},
   "outputs": [
    {
     "data": {
      "text/html": [
       "<div>\n",
       "<style scoped>\n",
       "    .dataframe tbody tr th:only-of-type {\n",
       "        vertical-align: middle;\n",
       "    }\n",
       "\n",
       "    .dataframe tbody tr th {\n",
       "        vertical-align: top;\n",
       "    }\n",
       "\n",
       "    .dataframe thead th {\n",
       "        text-align: right;\n",
       "    }\n",
       "</style>\n",
       "<table border=\"1\" class=\"dataframe\">\n",
       "  <thead>\n",
       "    <tr style=\"text-align: right;\">\n",
       "      <th></th>\n",
       "      <th>Administrative</th>\n",
       "      <th>Administrative_Duration</th>\n",
       "      <th>Informational</th>\n",
       "      <th>Informational_Duration</th>\n",
       "      <th>ProductRelated</th>\n",
       "      <th>ProductRelated_Duration</th>\n",
       "      <th>BounceRates</th>\n",
       "      <th>ExitRates</th>\n",
       "      <th>PageValues</th>\n",
       "      <th>SpecialDay</th>\n",
       "      <th>Month</th>\n",
       "      <th>OperatingSystems</th>\n",
       "      <th>Browser</th>\n",
       "      <th>Region</th>\n",
       "      <th>TrafficType</th>\n",
       "      <th>VisitorType</th>\n",
       "      <th>Weekend</th>\n",
       "      <th>Revenue</th>\n",
       "    </tr>\n",
       "  </thead>\n",
       "  <tbody>\n",
       "    <tr>\n",
       "      <th>1</th>\n",
       "      <td>0</td>\n",
       "      <td>0.0</td>\n",
       "      <td>0</td>\n",
       "      <td>0.0</td>\n",
       "      <td>1.0</td>\n",
       "      <td>0.000000</td>\n",
       "      <td>0.200000</td>\n",
       "      <td>0.200000</td>\n",
       "      <td>0.000000</td>\n",
       "      <td>0.0</td>\n",
       "      <td>Feb</td>\n",
       "      <td>1</td>\n",
       "      <td>1</td>\n",
       "      <td>1</td>\n",
       "      <td>1</td>\n",
       "      <td>Returning_Visitor</td>\n",
       "      <td>0</td>\n",
       "      <td>0</td>\n",
       "    </tr>\n",
       "    <tr>\n",
       "      <th>2</th>\n",
       "      <td>0</td>\n",
       "      <td>0.0</td>\n",
       "      <td>0</td>\n",
       "      <td>0.0</td>\n",
       "      <td>2.0</td>\n",
       "      <td>64.000000</td>\n",
       "      <td>0.000000</td>\n",
       "      <td>0.100000</td>\n",
       "      <td>0.000000</td>\n",
       "      <td>0.0</td>\n",
       "      <td>Feb</td>\n",
       "      <td>2</td>\n",
       "      <td>2</td>\n",
       "      <td>1</td>\n",
       "      <td>2</td>\n",
       "      <td>Returning_Visitor</td>\n",
       "      <td>0</td>\n",
       "      <td>0</td>\n",
       "    </tr>\n",
       "    <tr>\n",
       "      <th>3</th>\n",
       "      <td>0</td>\n",
       "      <td>0.0</td>\n",
       "      <td>0</td>\n",
       "      <td>0.0</td>\n",
       "      <td>1.0</td>\n",
       "      <td>0.000000</td>\n",
       "      <td>0.200000</td>\n",
       "      <td>0.200000</td>\n",
       "      <td>0.000000</td>\n",
       "      <td>0.0</td>\n",
       "      <td>Feb</td>\n",
       "      <td>4</td>\n",
       "      <td>1</td>\n",
       "      <td>9</td>\n",
       "      <td>3</td>\n",
       "      <td>Returning_Visitor</td>\n",
       "      <td>0</td>\n",
       "      <td>0</td>\n",
       "    </tr>\n",
       "    <tr>\n",
       "      <th>4</th>\n",
       "      <td>0</td>\n",
       "      <td>0.0</td>\n",
       "      <td>0</td>\n",
       "      <td>0.0</td>\n",
       "      <td>2.0</td>\n",
       "      <td>2.666667</td>\n",
       "      <td>0.050000</td>\n",
       "      <td>0.140000</td>\n",
       "      <td>0.000000</td>\n",
       "      <td>0.0</td>\n",
       "      <td>Feb</td>\n",
       "      <td>3</td>\n",
       "      <td>2</td>\n",
       "      <td>2</td>\n",
       "      <td>4</td>\n",
       "      <td>Returning_Visitor</td>\n",
       "      <td>0</td>\n",
       "      <td>0</td>\n",
       "    </tr>\n",
       "    <tr>\n",
       "      <th>5</th>\n",
       "      <td>0</td>\n",
       "      <td>0.0</td>\n",
       "      <td>0</td>\n",
       "      <td>0.0</td>\n",
       "      <td>10.0</td>\n",
       "      <td>627.500000</td>\n",
       "      <td>0.020000</td>\n",
       "      <td>0.050000</td>\n",
       "      <td>0.000000</td>\n",
       "      <td>0.0</td>\n",
       "      <td>Feb</td>\n",
       "      <td>3</td>\n",
       "      <td>3</td>\n",
       "      <td>1</td>\n",
       "      <td>4</td>\n",
       "      <td>Returning_Visitor</td>\n",
       "      <td>1</td>\n",
       "      <td>0</td>\n",
       "    </tr>\n",
       "    <tr>\n",
       "      <th>...</th>\n",
       "      <td>...</td>\n",
       "      <td>...</td>\n",
       "      <td>...</td>\n",
       "      <td>...</td>\n",
       "      <td>...</td>\n",
       "      <td>...</td>\n",
       "      <td>...</td>\n",
       "      <td>...</td>\n",
       "      <td>...</td>\n",
       "      <td>...</td>\n",
       "      <td>...</td>\n",
       "      <td>...</td>\n",
       "      <td>...</td>\n",
       "      <td>...</td>\n",
       "      <td>...</td>\n",
       "      <td>...</td>\n",
       "      <td>...</td>\n",
       "      <td>...</td>\n",
       "    </tr>\n",
       "    <tr>\n",
       "      <th>12326</th>\n",
       "      <td>3</td>\n",
       "      <td>145.0</td>\n",
       "      <td>0</td>\n",
       "      <td>0.0</td>\n",
       "      <td>53.0</td>\n",
       "      <td>1783.791667</td>\n",
       "      <td>0.007143</td>\n",
       "      <td>0.029031</td>\n",
       "      <td>12.241717</td>\n",
       "      <td>0.0</td>\n",
       "      <td>Dec</td>\n",
       "      <td>4</td>\n",
       "      <td>6</td>\n",
       "      <td>1</td>\n",
       "      <td>1</td>\n",
       "      <td>Returning_Visitor</td>\n",
       "      <td>1</td>\n",
       "      <td>0</td>\n",
       "    </tr>\n",
       "    <tr>\n",
       "      <th>12327</th>\n",
       "      <td>0</td>\n",
       "      <td>0.0</td>\n",
       "      <td>0</td>\n",
       "      <td>0.0</td>\n",
       "      <td>5.0</td>\n",
       "      <td>465.750000</td>\n",
       "      <td>0.000000</td>\n",
       "      <td>0.021333</td>\n",
       "      <td>0.000000</td>\n",
       "      <td>0.0</td>\n",
       "      <td>Nov</td>\n",
       "      <td>3</td>\n",
       "      <td>2</td>\n",
       "      <td>1</td>\n",
       "      <td>8</td>\n",
       "      <td>Returning_Visitor</td>\n",
       "      <td>1</td>\n",
       "      <td>0</td>\n",
       "    </tr>\n",
       "    <tr>\n",
       "      <th>12328</th>\n",
       "      <td>0</td>\n",
       "      <td>0.0</td>\n",
       "      <td>0</td>\n",
       "      <td>0.0</td>\n",
       "      <td>6.0</td>\n",
       "      <td>184.250000</td>\n",
       "      <td>0.083333</td>\n",
       "      <td>0.086667</td>\n",
       "      <td>0.000000</td>\n",
       "      <td>0.0</td>\n",
       "      <td>Nov</td>\n",
       "      <td>3</td>\n",
       "      <td>2</td>\n",
       "      <td>1</td>\n",
       "      <td>13</td>\n",
       "      <td>Returning_Visitor</td>\n",
       "      <td>1</td>\n",
       "      <td>0</td>\n",
       "    </tr>\n",
       "    <tr>\n",
       "      <th>12329</th>\n",
       "      <td>4</td>\n",
       "      <td>75.0</td>\n",
       "      <td>0</td>\n",
       "      <td>0.0</td>\n",
       "      <td>15.0</td>\n",
       "      <td>346.000000</td>\n",
       "      <td>0.000000</td>\n",
       "      <td>0.021053</td>\n",
       "      <td>0.000000</td>\n",
       "      <td>0.0</td>\n",
       "      <td>Nov</td>\n",
       "      <td>2</td>\n",
       "      <td>2</td>\n",
       "      <td>3</td>\n",
       "      <td>11</td>\n",
       "      <td>Returning_Visitor</td>\n",
       "      <td>0</td>\n",
       "      <td>0</td>\n",
       "    </tr>\n",
       "    <tr>\n",
       "      <th>12330</th>\n",
       "      <td>0</td>\n",
       "      <td>0.0</td>\n",
       "      <td>0</td>\n",
       "      <td>0.0</td>\n",
       "      <td>3.0</td>\n",
       "      <td>21.250000</td>\n",
       "      <td>0.000000</td>\n",
       "      <td>0.066667</td>\n",
       "      <td>0.000000</td>\n",
       "      <td>0.0</td>\n",
       "      <td>Nov</td>\n",
       "      <td>3</td>\n",
       "      <td>2</td>\n",
       "      <td>1</td>\n",
       "      <td>2</td>\n",
       "      <td>New_Visitor</td>\n",
       "      <td>1</td>\n",
       "      <td>0</td>\n",
       "    </tr>\n",
       "  </tbody>\n",
       "</table>\n",
       "<p>12330 rows × 18 columns</p>\n",
       "</div>"
      ],
      "text/plain": [
       "       Administrative  Administrative_Duration  Informational  \\\n",
       "1                   0                      0.0              0   \n",
       "2                   0                      0.0              0   \n",
       "3                   0                      0.0              0   \n",
       "4                   0                      0.0              0   \n",
       "5                   0                      0.0              0   \n",
       "...               ...                      ...            ...   \n",
       "12326               3                    145.0              0   \n",
       "12327               0                      0.0              0   \n",
       "12328               0                      0.0              0   \n",
       "12329               4                     75.0              0   \n",
       "12330               0                      0.0              0   \n",
       "\n",
       "       Informational_Duration  ProductRelated  ProductRelated_Duration  \\\n",
       "1                         0.0             1.0                 0.000000   \n",
       "2                         0.0             2.0                64.000000   \n",
       "3                         0.0             1.0                 0.000000   \n",
       "4                         0.0             2.0                 2.666667   \n",
       "5                         0.0            10.0               627.500000   \n",
       "...                       ...             ...                      ...   \n",
       "12326                     0.0            53.0              1783.791667   \n",
       "12327                     0.0             5.0               465.750000   \n",
       "12328                     0.0             6.0               184.250000   \n",
       "12329                     0.0            15.0               346.000000   \n",
       "12330                     0.0             3.0                21.250000   \n",
       "\n",
       "       BounceRates  ExitRates  PageValues  SpecialDay Month  OperatingSystems  \\\n",
       "1         0.200000   0.200000    0.000000         0.0   Feb                 1   \n",
       "2         0.000000   0.100000    0.000000         0.0   Feb                 2   \n",
       "3         0.200000   0.200000    0.000000         0.0   Feb                 4   \n",
       "4         0.050000   0.140000    0.000000         0.0   Feb                 3   \n",
       "5         0.020000   0.050000    0.000000         0.0   Feb                 3   \n",
       "...            ...        ...         ...         ...   ...               ...   \n",
       "12326     0.007143   0.029031   12.241717         0.0   Dec                 4   \n",
       "12327     0.000000   0.021333    0.000000         0.0   Nov                 3   \n",
       "12328     0.083333   0.086667    0.000000         0.0   Nov                 3   \n",
       "12329     0.000000   0.021053    0.000000         0.0   Nov                 2   \n",
       "12330     0.000000   0.066667    0.000000         0.0   Nov                 3   \n",
       "\n",
       "       Browser  Region  TrafficType        VisitorType  Weekend  Revenue  \n",
       "1            1       1            1  Returning_Visitor        0        0  \n",
       "2            2       1            2  Returning_Visitor        0        0  \n",
       "3            1       9            3  Returning_Visitor        0        0  \n",
       "4            2       2            4  Returning_Visitor        0        0  \n",
       "5            3       1            4  Returning_Visitor        1        0  \n",
       "...        ...     ...          ...                ...      ...      ...  \n",
       "12326        6       1            1  Returning_Visitor        1        0  \n",
       "12327        2       1            8  Returning_Visitor        1        0  \n",
       "12328        2       1           13  Returning_Visitor        1        0  \n",
       "12329        2       3           11  Returning_Visitor        0        0  \n",
       "12330        2       1            2        New_Visitor        1        0  \n",
       "\n",
       "[12330 rows x 18 columns]"
      ]
     },
     "execution_count": 64,
     "metadata": {},
     "output_type": "execute_result"
    }
   ],
   "source": [
    "# arrange the row label starting from 1\n",
    "df.index = np.arange(1,len(df)+1)\n",
    "# Transfer \"Revenue\" and \"Weekend\" features into Bin\n",
    "df.Revenue = df.Revenue.astype('int')\n",
    "df.Weekend = df.Weekend.astype('int')\n",
    "df"
   ]
  },
  {
   "cell_type": "markdown",
   "id": "beb9e102",
   "metadata": {},
   "source": [
    "__2. Holdout dataset split as specified__"
   ]
  },
  {
   "cell_type": "code",
   "execution_count": 65,
   "id": "f4314da2",
   "metadata": {},
   "outputs": [],
   "source": [
    "# splitting dataframe by row index\n",
    "df_train = df.iloc[:9999,:]\n",
    "df_holdout = df.iloc[9999:,:]"
   ]
  },
  {
   "cell_type": "code",
   "execution_count": 66,
   "id": "3cecf650",
   "metadata": {},
   "outputs": [
    {
     "data": {
      "text/html": [
       "<div>\n",
       "<style scoped>\n",
       "    .dataframe tbody tr th:only-of-type {\n",
       "        vertical-align: middle;\n",
       "    }\n",
       "\n",
       "    .dataframe tbody tr th {\n",
       "        vertical-align: top;\n",
       "    }\n",
       "\n",
       "    .dataframe thead th {\n",
       "        text-align: right;\n",
       "    }\n",
       "</style>\n",
       "<table border=\"1\" class=\"dataframe\">\n",
       "  <thead>\n",
       "    <tr style=\"text-align: right;\">\n",
       "      <th></th>\n",
       "      <th>Administrative</th>\n",
       "      <th>Administrative_Duration</th>\n",
       "      <th>Informational</th>\n",
       "      <th>Informational_Duration</th>\n",
       "      <th>ProductRelated</th>\n",
       "      <th>ProductRelated_Duration</th>\n",
       "      <th>BounceRates</th>\n",
       "      <th>ExitRates</th>\n",
       "      <th>PageValues</th>\n",
       "      <th>SpecialDay</th>\n",
       "      <th>Month</th>\n",
       "      <th>OperatingSystems</th>\n",
       "      <th>Browser</th>\n",
       "      <th>Region</th>\n",
       "      <th>TrafficType</th>\n",
       "      <th>VisitorType</th>\n",
       "      <th>Weekend</th>\n",
       "      <th>Revenue</th>\n",
       "    </tr>\n",
       "  </thead>\n",
       "  <tbody>\n",
       "    <tr>\n",
       "      <th>1</th>\n",
       "      <td>0</td>\n",
       "      <td>0.0000</td>\n",
       "      <td>0</td>\n",
       "      <td>0.0</td>\n",
       "      <td>1.0</td>\n",
       "      <td>0.000000</td>\n",
       "      <td>0.200000</td>\n",
       "      <td>0.200000</td>\n",
       "      <td>0.000000</td>\n",
       "      <td>0.0</td>\n",
       "      <td>Feb</td>\n",
       "      <td>1</td>\n",
       "      <td>1</td>\n",
       "      <td>1</td>\n",
       "      <td>1</td>\n",
       "      <td>Returning_Visitor</td>\n",
       "      <td>0</td>\n",
       "      <td>0</td>\n",
       "    </tr>\n",
       "    <tr>\n",
       "      <th>2</th>\n",
       "      <td>0</td>\n",
       "      <td>0.0000</td>\n",
       "      <td>0</td>\n",
       "      <td>0.0</td>\n",
       "      <td>2.0</td>\n",
       "      <td>64.000000</td>\n",
       "      <td>0.000000</td>\n",
       "      <td>0.100000</td>\n",
       "      <td>0.000000</td>\n",
       "      <td>0.0</td>\n",
       "      <td>Feb</td>\n",
       "      <td>2</td>\n",
       "      <td>2</td>\n",
       "      <td>1</td>\n",
       "      <td>2</td>\n",
       "      <td>Returning_Visitor</td>\n",
       "      <td>0</td>\n",
       "      <td>0</td>\n",
       "    </tr>\n",
       "    <tr>\n",
       "      <th>3</th>\n",
       "      <td>0</td>\n",
       "      <td>0.0000</td>\n",
       "      <td>0</td>\n",
       "      <td>0.0</td>\n",
       "      <td>1.0</td>\n",
       "      <td>0.000000</td>\n",
       "      <td>0.200000</td>\n",
       "      <td>0.200000</td>\n",
       "      <td>0.000000</td>\n",
       "      <td>0.0</td>\n",
       "      <td>Feb</td>\n",
       "      <td>4</td>\n",
       "      <td>1</td>\n",
       "      <td>9</td>\n",
       "      <td>3</td>\n",
       "      <td>Returning_Visitor</td>\n",
       "      <td>0</td>\n",
       "      <td>0</td>\n",
       "    </tr>\n",
       "    <tr>\n",
       "      <th>4</th>\n",
       "      <td>0</td>\n",
       "      <td>0.0000</td>\n",
       "      <td>0</td>\n",
       "      <td>0.0</td>\n",
       "      <td>2.0</td>\n",
       "      <td>2.666667</td>\n",
       "      <td>0.050000</td>\n",
       "      <td>0.140000</td>\n",
       "      <td>0.000000</td>\n",
       "      <td>0.0</td>\n",
       "      <td>Feb</td>\n",
       "      <td>3</td>\n",
       "      <td>2</td>\n",
       "      <td>2</td>\n",
       "      <td>4</td>\n",
       "      <td>Returning_Visitor</td>\n",
       "      <td>0</td>\n",
       "      <td>0</td>\n",
       "    </tr>\n",
       "    <tr>\n",
       "      <th>5</th>\n",
       "      <td>0</td>\n",
       "      <td>0.0000</td>\n",
       "      <td>0</td>\n",
       "      <td>0.0</td>\n",
       "      <td>10.0</td>\n",
       "      <td>627.500000</td>\n",
       "      <td>0.020000</td>\n",
       "      <td>0.050000</td>\n",
       "      <td>0.000000</td>\n",
       "      <td>0.0</td>\n",
       "      <td>Feb</td>\n",
       "      <td>3</td>\n",
       "      <td>3</td>\n",
       "      <td>1</td>\n",
       "      <td>4</td>\n",
       "      <td>Returning_Visitor</td>\n",
       "      <td>1</td>\n",
       "      <td>0</td>\n",
       "    </tr>\n",
       "    <tr>\n",
       "      <th>...</th>\n",
       "      <td>...</td>\n",
       "      <td>...</td>\n",
       "      <td>...</td>\n",
       "      <td>...</td>\n",
       "      <td>...</td>\n",
       "      <td>...</td>\n",
       "      <td>...</td>\n",
       "      <td>...</td>\n",
       "      <td>...</td>\n",
       "      <td>...</td>\n",
       "      <td>...</td>\n",
       "      <td>...</td>\n",
       "      <td>...</td>\n",
       "      <td>...</td>\n",
       "      <td>...</td>\n",
       "      <td>...</td>\n",
       "      <td>...</td>\n",
       "      <td>...</td>\n",
       "    </tr>\n",
       "    <tr>\n",
       "      <th>9995</th>\n",
       "      <td>1</td>\n",
       "      <td>8.0000</td>\n",
       "      <td>2</td>\n",
       "      <td>134.5</td>\n",
       "      <td>21.0</td>\n",
       "      <td>507.291667</td>\n",
       "      <td>0.008333</td>\n",
       "      <td>0.031944</td>\n",
       "      <td>0.000000</td>\n",
       "      <td>0.0</td>\n",
       "      <td>Nov</td>\n",
       "      <td>2</td>\n",
       "      <td>10</td>\n",
       "      <td>1</td>\n",
       "      <td>1</td>\n",
       "      <td>Returning_Visitor</td>\n",
       "      <td>0</td>\n",
       "      <td>1</td>\n",
       "    </tr>\n",
       "    <tr>\n",
       "      <th>9996</th>\n",
       "      <td>0</td>\n",
       "      <td>0.0000</td>\n",
       "      <td>2</td>\n",
       "      <td>6.0</td>\n",
       "      <td>7.0</td>\n",
       "      <td>162.625000</td>\n",
       "      <td>0.000000</td>\n",
       "      <td>0.022222</td>\n",
       "      <td>0.000000</td>\n",
       "      <td>0.0</td>\n",
       "      <td>Nov</td>\n",
       "      <td>2</td>\n",
       "      <td>2</td>\n",
       "      <td>1</td>\n",
       "      <td>2</td>\n",
       "      <td>Returning_Visitor</td>\n",
       "      <td>1</td>\n",
       "      <td>0</td>\n",
       "    </tr>\n",
       "    <tr>\n",
       "      <th>9997</th>\n",
       "      <td>0</td>\n",
       "      <td>0.0000</td>\n",
       "      <td>0</td>\n",
       "      <td>0.0</td>\n",
       "      <td>12.0</td>\n",
       "      <td>442.500000</td>\n",
       "      <td>0.000000</td>\n",
       "      <td>0.008333</td>\n",
       "      <td>0.000000</td>\n",
       "      <td>0.0</td>\n",
       "      <td>Nov</td>\n",
       "      <td>2</td>\n",
       "      <td>2</td>\n",
       "      <td>1</td>\n",
       "      <td>2</td>\n",
       "      <td>New_Visitor</td>\n",
       "      <td>0</td>\n",
       "      <td>0</td>\n",
       "    </tr>\n",
       "    <tr>\n",
       "      <th>9998</th>\n",
       "      <td>0</td>\n",
       "      <td>0.0000</td>\n",
       "      <td>0</td>\n",
       "      <td>0.0</td>\n",
       "      <td>4.0</td>\n",
       "      <td>185.000000</td>\n",
       "      <td>0.050000</td>\n",
       "      <td>0.100000</td>\n",
       "      <td>0.000000</td>\n",
       "      <td>0.0</td>\n",
       "      <td>Nov</td>\n",
       "      <td>2</td>\n",
       "      <td>2</td>\n",
       "      <td>1</td>\n",
       "      <td>20</td>\n",
       "      <td>Returning_Visitor</td>\n",
       "      <td>0</td>\n",
       "      <td>0</td>\n",
       "    </tr>\n",
       "    <tr>\n",
       "      <th>9999</th>\n",
       "      <td>12</td>\n",
       "      <td>252.8125</td>\n",
       "      <td>4</td>\n",
       "      <td>78.5</td>\n",
       "      <td>100.0</td>\n",
       "      <td>4597.124242</td>\n",
       "      <td>0.009252</td>\n",
       "      <td>0.028497</td>\n",
       "      <td>2.638075</td>\n",
       "      <td>0.0</td>\n",
       "      <td>Nov</td>\n",
       "      <td>1</td>\n",
       "      <td>1</td>\n",
       "      <td>1</td>\n",
       "      <td>10</td>\n",
       "      <td>Returning_Visitor</td>\n",
       "      <td>1</td>\n",
       "      <td>1</td>\n",
       "    </tr>\n",
       "  </tbody>\n",
       "</table>\n",
       "<p>9999 rows × 18 columns</p>\n",
       "</div>"
      ],
      "text/plain": [
       "      Administrative  Administrative_Duration  Informational  \\\n",
       "1                  0                   0.0000              0   \n",
       "2                  0                   0.0000              0   \n",
       "3                  0                   0.0000              0   \n",
       "4                  0                   0.0000              0   \n",
       "5                  0                   0.0000              0   \n",
       "...              ...                      ...            ...   \n",
       "9995               1                   8.0000              2   \n",
       "9996               0                   0.0000              2   \n",
       "9997               0                   0.0000              0   \n",
       "9998               0                   0.0000              0   \n",
       "9999              12                 252.8125              4   \n",
       "\n",
       "      Informational_Duration  ProductRelated  ProductRelated_Duration  \\\n",
       "1                        0.0             1.0                 0.000000   \n",
       "2                        0.0             2.0                64.000000   \n",
       "3                        0.0             1.0                 0.000000   \n",
       "4                        0.0             2.0                 2.666667   \n",
       "5                        0.0            10.0               627.500000   \n",
       "...                      ...             ...                      ...   \n",
       "9995                   134.5            21.0               507.291667   \n",
       "9996                     6.0             7.0               162.625000   \n",
       "9997                     0.0            12.0               442.500000   \n",
       "9998                     0.0             4.0               185.000000   \n",
       "9999                    78.5           100.0              4597.124242   \n",
       "\n",
       "      BounceRates  ExitRates  PageValues  SpecialDay Month  OperatingSystems  \\\n",
       "1        0.200000   0.200000    0.000000         0.0   Feb                 1   \n",
       "2        0.000000   0.100000    0.000000         0.0   Feb                 2   \n",
       "3        0.200000   0.200000    0.000000         0.0   Feb                 4   \n",
       "4        0.050000   0.140000    0.000000         0.0   Feb                 3   \n",
       "5        0.020000   0.050000    0.000000         0.0   Feb                 3   \n",
       "...           ...        ...         ...         ...   ...               ...   \n",
       "9995     0.008333   0.031944    0.000000         0.0   Nov                 2   \n",
       "9996     0.000000   0.022222    0.000000         0.0   Nov                 2   \n",
       "9997     0.000000   0.008333    0.000000         0.0   Nov                 2   \n",
       "9998     0.050000   0.100000    0.000000         0.0   Nov                 2   \n",
       "9999     0.009252   0.028497    2.638075         0.0   Nov                 1   \n",
       "\n",
       "      Browser  Region  TrafficType        VisitorType  Weekend  Revenue  \n",
       "1           1       1            1  Returning_Visitor        0        0  \n",
       "2           2       1            2  Returning_Visitor        0        0  \n",
       "3           1       9            3  Returning_Visitor        0        0  \n",
       "4           2       2            4  Returning_Visitor        0        0  \n",
       "5           3       1            4  Returning_Visitor        1        0  \n",
       "...       ...     ...          ...                ...      ...      ...  \n",
       "9995       10       1            1  Returning_Visitor        0        1  \n",
       "9996        2       1            2  Returning_Visitor        1        0  \n",
       "9997        2       1            2        New_Visitor        0        0  \n",
       "9998        2       1           20  Returning_Visitor        0        0  \n",
       "9999        1       1           10  Returning_Visitor        1        1  \n",
       "\n",
       "[9999 rows x 18 columns]"
      ]
     },
     "execution_count": 66,
     "metadata": {},
     "output_type": "execute_result"
    }
   ],
   "source": [
    "df_train"
   ]
  },
  {
   "cell_type": "code",
   "execution_count": 67,
   "id": "b10df18a",
   "metadata": {},
   "outputs": [
    {
     "data": {
      "text/html": [
       "<div>\n",
       "<style scoped>\n",
       "    .dataframe tbody tr th:only-of-type {\n",
       "        vertical-align: middle;\n",
       "    }\n",
       "\n",
       "    .dataframe tbody tr th {\n",
       "        vertical-align: top;\n",
       "    }\n",
       "\n",
       "    .dataframe thead th {\n",
       "        text-align: right;\n",
       "    }\n",
       "</style>\n",
       "<table border=\"1\" class=\"dataframe\">\n",
       "  <thead>\n",
       "    <tr style=\"text-align: right;\">\n",
       "      <th></th>\n",
       "      <th>Administrative</th>\n",
       "      <th>Administrative_Duration</th>\n",
       "      <th>Informational</th>\n",
       "      <th>Informational_Duration</th>\n",
       "      <th>ProductRelated</th>\n",
       "      <th>ProductRelated_Duration</th>\n",
       "      <th>BounceRates</th>\n",
       "      <th>ExitRates</th>\n",
       "      <th>PageValues</th>\n",
       "      <th>SpecialDay</th>\n",
       "      <th>Month</th>\n",
       "      <th>OperatingSystems</th>\n",
       "      <th>Browser</th>\n",
       "      <th>Region</th>\n",
       "      <th>TrafficType</th>\n",
       "      <th>VisitorType</th>\n",
       "      <th>Weekend</th>\n",
       "      <th>Revenue</th>\n",
       "    </tr>\n",
       "  </thead>\n",
       "  <tbody>\n",
       "    <tr>\n",
       "      <th>10000</th>\n",
       "      <td>4</td>\n",
       "      <td>142.50</td>\n",
       "      <td>0</td>\n",
       "      <td>0.0</td>\n",
       "      <td>56.0</td>\n",
       "      <td>1885.337440</td>\n",
       "      <td>0.010714</td>\n",
       "      <td>0.038102</td>\n",
       "      <td>5.040168</td>\n",
       "      <td>0.0</td>\n",
       "      <td>Nov</td>\n",
       "      <td>2</td>\n",
       "      <td>5</td>\n",
       "      <td>3</td>\n",
       "      <td>11</td>\n",
       "      <td>Returning_Visitor</td>\n",
       "      <td>0</td>\n",
       "      <td>1</td>\n",
       "    </tr>\n",
       "    <tr>\n",
       "      <th>10001</th>\n",
       "      <td>9</td>\n",
       "      <td>965.50</td>\n",
       "      <td>0</td>\n",
       "      <td>0.0</td>\n",
       "      <td>30.0</td>\n",
       "      <td>1895.133333</td>\n",
       "      <td>0.005405</td>\n",
       "      <td>0.011186</td>\n",
       "      <td>0.000000</td>\n",
       "      <td>0.0</td>\n",
       "      <td>Dec</td>\n",
       "      <td>3</td>\n",
       "      <td>2</td>\n",
       "      <td>3</td>\n",
       "      <td>2</td>\n",
       "      <td>Returning_Visitor</td>\n",
       "      <td>1</td>\n",
       "      <td>0</td>\n",
       "    </tr>\n",
       "    <tr>\n",
       "      <th>10002</th>\n",
       "      <td>1</td>\n",
       "      <td>22.00</td>\n",
       "      <td>3</td>\n",
       "      <td>39.0</td>\n",
       "      <td>80.0</td>\n",
       "      <td>1903.081639</td>\n",
       "      <td>0.007229</td>\n",
       "      <td>0.032249</td>\n",
       "      <td>0.000000</td>\n",
       "      <td>0.0</td>\n",
       "      <td>Dec</td>\n",
       "      <td>3</td>\n",
       "      <td>2</td>\n",
       "      <td>1</td>\n",
       "      <td>2</td>\n",
       "      <td>Returning_Visitor</td>\n",
       "      <td>0</td>\n",
       "      <td>0</td>\n",
       "    </tr>\n",
       "    <tr>\n",
       "      <th>10003</th>\n",
       "      <td>0</td>\n",
       "      <td>0.00</td>\n",
       "      <td>0</td>\n",
       "      <td>0.0</td>\n",
       "      <td>42.0</td>\n",
       "      <td>2872.125000</td>\n",
       "      <td>0.002500</td>\n",
       "      <td>0.025778</td>\n",
       "      <td>0.000000</td>\n",
       "      <td>0.0</td>\n",
       "      <td>Nov</td>\n",
       "      <td>2</td>\n",
       "      <td>2</td>\n",
       "      <td>1</td>\n",
       "      <td>13</td>\n",
       "      <td>Returning_Visitor</td>\n",
       "      <td>1</td>\n",
       "      <td>0</td>\n",
       "    </tr>\n",
       "    <tr>\n",
       "      <th>10004</th>\n",
       "      <td>9</td>\n",
       "      <td>196.25</td>\n",
       "      <td>1</td>\n",
       "      <td>62.5</td>\n",
       "      <td>6.0</td>\n",
       "      <td>148.750000</td>\n",
       "      <td>0.000000</td>\n",
       "      <td>0.020000</td>\n",
       "      <td>0.000000</td>\n",
       "      <td>0.0</td>\n",
       "      <td>Dec</td>\n",
       "      <td>4</td>\n",
       "      <td>1</td>\n",
       "      <td>9</td>\n",
       "      <td>2</td>\n",
       "      <td>Returning_Visitor</td>\n",
       "      <td>0</td>\n",
       "      <td>0</td>\n",
       "    </tr>\n",
       "    <tr>\n",
       "      <th>...</th>\n",
       "      <td>...</td>\n",
       "      <td>...</td>\n",
       "      <td>...</td>\n",
       "      <td>...</td>\n",
       "      <td>...</td>\n",
       "      <td>...</td>\n",
       "      <td>...</td>\n",
       "      <td>...</td>\n",
       "      <td>...</td>\n",
       "      <td>...</td>\n",
       "      <td>...</td>\n",
       "      <td>...</td>\n",
       "      <td>...</td>\n",
       "      <td>...</td>\n",
       "      <td>...</td>\n",
       "      <td>...</td>\n",
       "      <td>...</td>\n",
       "      <td>...</td>\n",
       "    </tr>\n",
       "    <tr>\n",
       "      <th>12326</th>\n",
       "      <td>3</td>\n",
       "      <td>145.00</td>\n",
       "      <td>0</td>\n",
       "      <td>0.0</td>\n",
       "      <td>53.0</td>\n",
       "      <td>1783.791667</td>\n",
       "      <td>0.007143</td>\n",
       "      <td>0.029031</td>\n",
       "      <td>12.241717</td>\n",
       "      <td>0.0</td>\n",
       "      <td>Dec</td>\n",
       "      <td>4</td>\n",
       "      <td>6</td>\n",
       "      <td>1</td>\n",
       "      <td>1</td>\n",
       "      <td>Returning_Visitor</td>\n",
       "      <td>1</td>\n",
       "      <td>0</td>\n",
       "    </tr>\n",
       "    <tr>\n",
       "      <th>12327</th>\n",
       "      <td>0</td>\n",
       "      <td>0.00</td>\n",
       "      <td>0</td>\n",
       "      <td>0.0</td>\n",
       "      <td>5.0</td>\n",
       "      <td>465.750000</td>\n",
       "      <td>0.000000</td>\n",
       "      <td>0.021333</td>\n",
       "      <td>0.000000</td>\n",
       "      <td>0.0</td>\n",
       "      <td>Nov</td>\n",
       "      <td>3</td>\n",
       "      <td>2</td>\n",
       "      <td>1</td>\n",
       "      <td>8</td>\n",
       "      <td>Returning_Visitor</td>\n",
       "      <td>1</td>\n",
       "      <td>0</td>\n",
       "    </tr>\n",
       "    <tr>\n",
       "      <th>12328</th>\n",
       "      <td>0</td>\n",
       "      <td>0.00</td>\n",
       "      <td>0</td>\n",
       "      <td>0.0</td>\n",
       "      <td>6.0</td>\n",
       "      <td>184.250000</td>\n",
       "      <td>0.083333</td>\n",
       "      <td>0.086667</td>\n",
       "      <td>0.000000</td>\n",
       "      <td>0.0</td>\n",
       "      <td>Nov</td>\n",
       "      <td>3</td>\n",
       "      <td>2</td>\n",
       "      <td>1</td>\n",
       "      <td>13</td>\n",
       "      <td>Returning_Visitor</td>\n",
       "      <td>1</td>\n",
       "      <td>0</td>\n",
       "    </tr>\n",
       "    <tr>\n",
       "      <th>12329</th>\n",
       "      <td>4</td>\n",
       "      <td>75.00</td>\n",
       "      <td>0</td>\n",
       "      <td>0.0</td>\n",
       "      <td>15.0</td>\n",
       "      <td>346.000000</td>\n",
       "      <td>0.000000</td>\n",
       "      <td>0.021053</td>\n",
       "      <td>0.000000</td>\n",
       "      <td>0.0</td>\n",
       "      <td>Nov</td>\n",
       "      <td>2</td>\n",
       "      <td>2</td>\n",
       "      <td>3</td>\n",
       "      <td>11</td>\n",
       "      <td>Returning_Visitor</td>\n",
       "      <td>0</td>\n",
       "      <td>0</td>\n",
       "    </tr>\n",
       "    <tr>\n",
       "      <th>12330</th>\n",
       "      <td>0</td>\n",
       "      <td>0.00</td>\n",
       "      <td>0</td>\n",
       "      <td>0.0</td>\n",
       "      <td>3.0</td>\n",
       "      <td>21.250000</td>\n",
       "      <td>0.000000</td>\n",
       "      <td>0.066667</td>\n",
       "      <td>0.000000</td>\n",
       "      <td>0.0</td>\n",
       "      <td>Nov</td>\n",
       "      <td>3</td>\n",
       "      <td>2</td>\n",
       "      <td>1</td>\n",
       "      <td>2</td>\n",
       "      <td>New_Visitor</td>\n",
       "      <td>1</td>\n",
       "      <td>0</td>\n",
       "    </tr>\n",
       "  </tbody>\n",
       "</table>\n",
       "<p>2331 rows × 18 columns</p>\n",
       "</div>"
      ],
      "text/plain": [
       "       Administrative  Administrative_Duration  Informational  \\\n",
       "10000               4                   142.50              0   \n",
       "10001               9                   965.50              0   \n",
       "10002               1                    22.00              3   \n",
       "10003               0                     0.00              0   \n",
       "10004               9                   196.25              1   \n",
       "...               ...                      ...            ...   \n",
       "12326               3                   145.00              0   \n",
       "12327               0                     0.00              0   \n",
       "12328               0                     0.00              0   \n",
       "12329               4                    75.00              0   \n",
       "12330               0                     0.00              0   \n",
       "\n",
       "       Informational_Duration  ProductRelated  ProductRelated_Duration  \\\n",
       "10000                     0.0            56.0              1885.337440   \n",
       "10001                     0.0            30.0              1895.133333   \n",
       "10002                    39.0            80.0              1903.081639   \n",
       "10003                     0.0            42.0              2872.125000   \n",
       "10004                    62.5             6.0               148.750000   \n",
       "...                       ...             ...                      ...   \n",
       "12326                     0.0            53.0              1783.791667   \n",
       "12327                     0.0             5.0               465.750000   \n",
       "12328                     0.0             6.0               184.250000   \n",
       "12329                     0.0            15.0               346.000000   \n",
       "12330                     0.0             3.0                21.250000   \n",
       "\n",
       "       BounceRates  ExitRates  PageValues  SpecialDay Month  OperatingSystems  \\\n",
       "10000     0.010714   0.038102    5.040168         0.0   Nov                 2   \n",
       "10001     0.005405   0.011186    0.000000         0.0   Dec                 3   \n",
       "10002     0.007229   0.032249    0.000000         0.0   Dec                 3   \n",
       "10003     0.002500   0.025778    0.000000         0.0   Nov                 2   \n",
       "10004     0.000000   0.020000    0.000000         0.0   Dec                 4   \n",
       "...            ...        ...         ...         ...   ...               ...   \n",
       "12326     0.007143   0.029031   12.241717         0.0   Dec                 4   \n",
       "12327     0.000000   0.021333    0.000000         0.0   Nov                 3   \n",
       "12328     0.083333   0.086667    0.000000         0.0   Nov                 3   \n",
       "12329     0.000000   0.021053    0.000000         0.0   Nov                 2   \n",
       "12330     0.000000   0.066667    0.000000         0.0   Nov                 3   \n",
       "\n",
       "       Browser  Region  TrafficType        VisitorType  Weekend  Revenue  \n",
       "10000        5       3           11  Returning_Visitor        0        1  \n",
       "10001        2       3            2  Returning_Visitor        1        0  \n",
       "10002        2       1            2  Returning_Visitor        0        0  \n",
       "10003        2       1           13  Returning_Visitor        1        0  \n",
       "10004        1       9            2  Returning_Visitor        0        0  \n",
       "...        ...     ...          ...                ...      ...      ...  \n",
       "12326        6       1            1  Returning_Visitor        1        0  \n",
       "12327        2       1            8  Returning_Visitor        1        0  \n",
       "12328        2       1           13  Returning_Visitor        1        0  \n",
       "12329        2       3           11  Returning_Visitor        0        0  \n",
       "12330        2       1            2        New_Visitor        1        0  \n",
       "\n",
       "[2331 rows x 18 columns]"
      ]
     },
     "execution_count": 67,
     "metadata": {},
     "output_type": "execute_result"
    }
   ],
   "source": [
    "df_holdout"
   ]
  },
  {
   "cell_type": "markdown",
   "id": "9725c536",
   "metadata": {},
   "source": [
    "__3. Correct explanation generalization from such a holdout split__"
   ]
  },
  {
   "cell_type": "markdown",
   "id": "0bc4a854",
   "metadata": {},
   "source": [
    "The split is not a good idea from the perspective of generalization. Because when we are doing splits, it should be follow the principle of random assignment. Whereas the dataframe is not totally random placed. E.g., for the \"Month\" feature, \"Feb\" is mostly in the first 200 rows, and from 10000 to 12330 only contains \"Nov\" and \"Dec\". Thus the model trained would work poorly and predict badly on the holdout set."
   ]
  },
  {
   "cell_type": "markdown",
   "id": "dddef8d3",
   "metadata": {},
   "source": [
    "__4. Use value_counts() in pandas to print out the distributions of the categorical and ordinal numbered features (treat SpecialDay as categorical here). Turn on the setting to reveal missing data -- how many features, and what percent of them, were missing? Discuss in markdown in your notebook.__"
   ]
  },
  {
   "cell_type": "code",
   "execution_count": 68,
   "id": "178815e9",
   "metadata": {
    "scrolled": true
   },
   "outputs": [
    {
     "name": "stdout",
     "output_type": "stream",
     "text": [
      "0     5768\n",
      "1     1354\n",
      "2     1114\n",
      "3      915\n",
      "4      765\n",
      "5      575\n",
      "6      432\n",
      "7      338\n",
      "8      287\n",
      "9      225\n",
      "10     153\n",
      "11     105\n",
      "12      86\n",
      "13      56\n",
      "14      44\n",
      "15      38\n",
      "16      24\n",
      "17      16\n",
      "18      12\n",
      "19       6\n",
      "24       4\n",
      "22       4\n",
      "23       3\n",
      "21       2\n",
      "20       2\n",
      "27       1\n",
      "26       1\n",
      "Name: Administrative, dtype: int64\n"
     ]
    }
   ],
   "source": [
    "# Feature 1: \"Administrative\"\n",
    "print(df[\"Administrative\"].value_counts())"
   ]
  },
  {
   "cell_type": "code",
   "execution_count": 69,
   "id": "edeb0548",
   "metadata": {},
   "outputs": [
    {
     "name": "stdout",
     "output_type": "stream",
     "text": [
      "0.000000      5903\n",
      "4.000000        56\n",
      "5.000000        53\n",
      "7.000000        45\n",
      "11.000000       42\n",
      "              ... \n",
      "68.014286        1\n",
      "362.300000       1\n",
      "90.700000        1\n",
      "760.900000       1\n",
      "150.357143       1\n",
      "Name: Administrative_Duration, Length: 3335, dtype: int64\n"
     ]
    }
   ],
   "source": [
    "# Feature 2: \"Administrative_Duration\"\n",
    "print(df[\"Administrative_Duration\"].value_counts())"
   ]
  },
  {
   "cell_type": "code",
   "execution_count": 70,
   "id": "4530bddc",
   "metadata": {},
   "outputs": [
    {
     "name": "stdout",
     "output_type": "stream",
     "text": [
      "0     9699\n",
      "1     1041\n",
      "2      728\n",
      "3      380\n",
      "4      222\n",
      "5       99\n",
      "6       78\n",
      "7       36\n",
      "9       15\n",
      "8       14\n",
      "10       7\n",
      "12       5\n",
      "14       2\n",
      "16       1\n",
      "11       1\n",
      "24       1\n",
      "13       1\n",
      "Name: Informational, dtype: int64\n"
     ]
    }
   ],
   "source": [
    "# Feature 3: \"Informational\"\n",
    "print(df[\"Informational\"].value_counts())"
   ]
  },
  {
   "cell_type": "code",
   "execution_count": 71,
   "id": "5e637543",
   "metadata": {},
   "outputs": [
    {
     "name": "stdout",
     "output_type": "stream",
     "text": [
      "0.00      9925\n",
      "9.00        33\n",
      "7.00        26\n",
      "10.00       26\n",
      "6.00        26\n",
      "          ... \n",
      "246.80       1\n",
      "274.00       1\n",
      "13.40        1\n",
      "223.15       1\n",
      "211.25       1\n",
      "Name: Informational_Duration, Length: 1258, dtype: int64\n"
     ]
    }
   ],
   "source": [
    "# Feature 4: \"Informational_Duration\"\n",
    "print(df[\"Informational_Duration\"].value_counts())"
   ]
  },
  {
   "cell_type": "code",
   "execution_count": 72,
   "id": "89207a31",
   "metadata": {},
   "outputs": [
    {
     "name": "stdout",
     "output_type": "stream",
     "text": [
      "1.0      588\n",
      "2.0      443\n",
      "3.0      438\n",
      "4.0      383\n",
      "6.0      382\n",
      "        ... \n",
      "440.0      1\n",
      "584.0      1\n",
      "293.0      1\n",
      "165.0      1\n",
      "192.0      1\n",
      "Name: ProductRelated, Length: 311, dtype: int64\n"
     ]
    }
   ],
   "source": [
    "# Feature 5: \"ProductRelated\"\n",
    "print(df[\"ProductRelated\"].value_counts())"
   ]
  },
  {
   "cell_type": "code",
   "execution_count": 73,
   "id": "b02cbaa5",
   "metadata": {},
   "outputs": [
    {
     "name": "stdout",
     "output_type": "stream",
     "text": [
      "0.000000      755\n",
      "17.000000      21\n",
      "11.000000      17\n",
      "8.000000       17\n",
      "15.000000      16\n",
      "             ... \n",
      "964.070513      1\n",
      "593.507143      1\n",
      "831.388889      1\n",
      "922.208333      1\n",
      "346.000000      1\n",
      "Name: ProductRelated_Duration, Length: 9551, dtype: int64\n"
     ]
    }
   ],
   "source": [
    "# Feature 6: \"ProductRelated_Duration\"\n",
    "print(df[\"ProductRelated_Duration\"].value_counts())"
   ]
  },
  {
   "cell_type": "code",
   "execution_count": 74,
   "id": "c96665d2",
   "metadata": {
    "scrolled": true
   },
   "outputs": [
    {
     "name": "stdout",
     "output_type": "stream",
     "text": [
      "0.000000    5518\n",
      "0.200000     700\n",
      "0.066667     134\n",
      "0.028571     115\n",
      "0.050000     113\n",
      "            ... \n",
      "0.079279       1\n",
      "0.006723       1\n",
      "0.013527       1\n",
      "0.074419       1\n",
      "0.011149       1\n",
      "Name: BounceRates, Length: 1872, dtype: int64\n"
     ]
    }
   ],
   "source": [
    "# Feature 7: \"BounceRates\"\n",
    "print(df[\"BounceRates\"].value_counts())"
   ]
  },
  {
   "cell_type": "code",
   "execution_count": 75,
   "id": "e8699a01",
   "metadata": {
    "scrolled": true
   },
   "outputs": [
    {
     "name": "stdout",
     "output_type": "stream",
     "text": [
      "0.200000    710\n",
      "0.100000    338\n",
      "0.050000    329\n",
      "0.033333    291\n",
      "0.066667    267\n",
      "           ... \n",
      "0.021816      1\n",
      "0.015787      1\n",
      "0.010302      1\n",
      "0.014534      1\n",
      "0.029031      1\n",
      "Name: ExitRates, Length: 4777, dtype: int64\n"
     ]
    }
   ],
   "source": [
    "# Feature 8: \"ExitRates\"\n",
    "print(df[\"ExitRates\"].value_counts())"
   ]
  },
  {
   "cell_type": "code",
   "execution_count": 76,
   "id": "c6f5266a",
   "metadata": {
    "scrolled": true
   },
   "outputs": [
    {
     "name": "stdout",
     "output_type": "stream",
     "text": [
      "0.000000     9600\n",
      "53.988000       6\n",
      "42.293068       3\n",
      "59.988000       2\n",
      "16.158558       2\n",
      "             ... \n",
      "6.673696        1\n",
      "6.094324        1\n",
      "28.253955       1\n",
      "16.090650       1\n",
      "12.241717       1\n",
      "Name: PageValues, Length: 2704, dtype: int64\n"
     ]
    }
   ],
   "source": [
    "# Feature 9: \"PageValues\"\n",
    "print(df[\"PageValues\"].value_counts())"
   ]
  },
  {
   "cell_type": "code",
   "execution_count": 77,
   "id": "b1cb3b6a",
   "metadata": {},
   "outputs": [
    {
     "name": "stdout",
     "output_type": "stream",
     "text": [
      "0.0    11079\n",
      "0.6      351\n",
      "0.8      325\n",
      "0.4      243\n",
      "0.2      178\n",
      "1.0      154\n",
      "Name: SpecialDay, dtype: int64\n"
     ]
    }
   ],
   "source": [
    "# Feature 10: \"SpecialDay\"\n",
    "print(df[\"SpecialDay\"].value_counts())"
   ]
  },
  {
   "cell_type": "code",
   "execution_count": 78,
   "id": "e73c0e55",
   "metadata": {},
   "outputs": [
    {
     "name": "stdout",
     "output_type": "stream",
     "text": [
      "May     3364\n",
      "Nov     2998\n",
      "Mar     1907\n",
      "Dec     1727\n",
      "Oct      549\n",
      "Sep      448\n",
      "Aug      433\n",
      "Jul      432\n",
      "June     288\n",
      "Feb      184\n",
      "Name: Month, dtype: int64\n"
     ]
    }
   ],
   "source": [
    "# Feature 11: \"Month\"\n",
    "print(df[\"Month\"].value_counts())"
   ]
  },
  {
   "cell_type": "code",
   "execution_count": 79,
   "id": "f97e9c47",
   "metadata": {},
   "outputs": [
    {
     "name": "stdout",
     "output_type": "stream",
     "text": [
      "2    6601\n",
      "1    2585\n",
      "3    2555\n",
      "4     478\n",
      "8      79\n",
      "6      19\n",
      "7       7\n",
      "5       6\n",
      "Name: OperatingSystems, dtype: int64\n"
     ]
    }
   ],
   "source": [
    "# Feature 12: \"OperatingSystems\"\n",
    "print(df[\"OperatingSystems\"].value_counts())"
   ]
  },
  {
   "cell_type": "code",
   "execution_count": 80,
   "id": "55c926ab",
   "metadata": {
    "scrolled": true
   },
   "outputs": [
    {
     "name": "stdout",
     "output_type": "stream",
     "text": [
      "2     7961\n",
      "1     2462\n",
      "4      736\n",
      "5      467\n",
      "6      174\n",
      "10     163\n",
      "8      135\n",
      "3      105\n",
      "13      61\n",
      "7       49\n",
      "12      10\n",
      "11       6\n",
      "9        1\n",
      "Name: Browser, dtype: int64\n"
     ]
    }
   ],
   "source": [
    "# Feature 13: \"Browser\"\n",
    "print(df[\"Browser\"].value_counts())"
   ]
  },
  {
   "cell_type": "code",
   "execution_count": 81,
   "id": "1e860303",
   "metadata": {},
   "outputs": [
    {
     "name": "stdout",
     "output_type": "stream",
     "text": [
      "1    4780\n",
      "3    2403\n",
      "4    1182\n",
      "2    1136\n",
      "6     805\n",
      "7     761\n",
      "9     511\n",
      "8     434\n",
      "5     318\n",
      "Name: Region, dtype: int64\n"
     ]
    }
   ],
   "source": [
    "# Feature 14: \"Region\"\n",
    "print(df[\"Region\"].value_counts())"
   ]
  },
  {
   "cell_type": "code",
   "execution_count": 82,
   "id": "fb436aad",
   "metadata": {},
   "outputs": [
    {
     "name": "stdout",
     "output_type": "stream",
     "text": [
      "2     3913\n",
      "1     2451\n",
      "3     2052\n",
      "4     1069\n",
      "13     738\n",
      "10     450\n",
      "6      444\n",
      "8      343\n",
      "5      260\n",
      "11     247\n",
      "20     198\n",
      "9       42\n",
      "7       40\n",
      "15      38\n",
      "19      17\n",
      "14      13\n",
      "18      10\n",
      "16       3\n",
      "12       1\n",
      "17       1\n",
      "Name: TrafficType, dtype: int64\n"
     ]
    }
   ],
   "source": [
    "# Feature 15: \"TrafficType\"\n",
    "print(df[\"TrafficType\"].value_counts())"
   ]
  },
  {
   "cell_type": "code",
   "execution_count": 83,
   "id": "95c37641",
   "metadata": {},
   "outputs": [
    {
     "name": "stdout",
     "output_type": "stream",
     "text": [
      "Returning_Visitor    10551\n",
      "New_Visitor           1694\n",
      "Other                   85\n",
      "Name: VisitorType, dtype: int64\n"
     ]
    }
   ],
   "source": [
    "# Feature 16: \"VisitorType\"\n",
    "print(df[\"VisitorType\"].value_counts())"
   ]
  },
  {
   "cell_type": "code",
   "execution_count": 84,
   "id": "cd5f358f",
   "metadata": {},
   "outputs": [
    {
     "name": "stdout",
     "output_type": "stream",
     "text": [
      "0    9462\n",
      "1    2868\n",
      "Name: Weekend, dtype: int64\n"
     ]
    }
   ],
   "source": [
    "# Feature 17: \"Weekend\"\n",
    "print(df[\"Weekend\"].value_counts())"
   ]
  },
  {
   "cell_type": "code",
   "execution_count": 85,
   "id": "88d1586b",
   "metadata": {},
   "outputs": [
    {
     "name": "stdout",
     "output_type": "stream",
     "text": [
      "0    10422\n",
      "1     1908\n",
      "Name: Revenue, dtype: int64\n"
     ]
    }
   ],
   "source": [
    "# Feature 18: \"Revenue\"\n",
    "print(df[\"Revenue\"].value_counts())"
   ]
  },
  {
   "cell_type": "code",
   "execution_count": 86,
   "id": "17f891a7",
   "metadata": {},
   "outputs": [
    {
     "name": "stdout",
     "output_type": "stream",
     "text": [
      "Administrative             0.00000\n",
      "Administrative_Duration    0.00000\n",
      "Informational              0.00000\n",
      "Informational_Duration     0.00000\n",
      "ProductRelated             0.02717\n",
      "ProductRelated_Duration    0.00000\n",
      "BounceRates                0.00000\n",
      "ExitRates                  0.00000\n",
      "PageValues                 0.00000\n",
      "SpecialDay                 0.00000\n",
      "Month                      0.00000\n",
      "OperatingSystems           0.00000\n",
      "Browser                    0.00000\n",
      "Region                     0.00000\n",
      "TrafficType                0.00000\n",
      "VisitorType                0.00000\n",
      "Weekend                    0.00000\n",
      "Revenue                    0.00000\n",
      "dtype: float64\n"
     ]
    }
   ],
   "source": [
    "# calculate the percentage of missing data in all features\n",
    "missing_percentage = df.isnull().sum()/df.shape[0]\n",
    "print(missing_percentage)"
   ]
  },
  {
   "cell_type": "markdown",
   "id": "0af08d67",
   "metadata": {},
   "source": [
    "As shown above, only \"ProductRelated\" feature has 2.717% of data missing"
   ]
  },
  {
   "cell_type": "markdown",
   "id": "a9a458e2",
   "metadata": {},
   "source": [
    "__5. Use the describe() method in pandas to print out summary statistics. Discuss which features you will have to consider more carefully, based on these results.__"
   ]
  },
  {
   "cell_type": "code",
   "execution_count": 87,
   "id": "0ea172bb",
   "metadata": {},
   "outputs": [
    {
     "data": {
      "text/html": [
       "<div>\n",
       "<style scoped>\n",
       "    .dataframe tbody tr th:only-of-type {\n",
       "        vertical-align: middle;\n",
       "    }\n",
       "\n",
       "    .dataframe tbody tr th {\n",
       "        vertical-align: top;\n",
       "    }\n",
       "\n",
       "    .dataframe thead th {\n",
       "        text-align: right;\n",
       "    }\n",
       "</style>\n",
       "<table border=\"1\" class=\"dataframe\">\n",
       "  <thead>\n",
       "    <tr style=\"text-align: right;\">\n",
       "      <th></th>\n",
       "      <th>Administrative</th>\n",
       "      <th>Administrative_Duration</th>\n",
       "      <th>Informational</th>\n",
       "      <th>Informational_Duration</th>\n",
       "      <th>ProductRelated</th>\n",
       "      <th>ProductRelated_Duration</th>\n",
       "      <th>BounceRates</th>\n",
       "      <th>ExitRates</th>\n",
       "      <th>PageValues</th>\n",
       "      <th>SpecialDay</th>\n",
       "      <th>Month</th>\n",
       "      <th>OperatingSystems</th>\n",
       "      <th>Browser</th>\n",
       "      <th>Region</th>\n",
       "      <th>TrafficType</th>\n",
       "      <th>VisitorType</th>\n",
       "      <th>Weekend</th>\n",
       "      <th>Revenue</th>\n",
       "    </tr>\n",
       "  </thead>\n",
       "  <tbody>\n",
       "    <tr>\n",
       "      <th>count</th>\n",
       "      <td>12330.000000</td>\n",
       "      <td>12330.000000</td>\n",
       "      <td>12330.000000</td>\n",
       "      <td>12330.000000</td>\n",
       "      <td>11995.000000</td>\n",
       "      <td>12330.000000</td>\n",
       "      <td>12330.000000</td>\n",
       "      <td>12330.000000</td>\n",
       "      <td>12330.000000</td>\n",
       "      <td>12330.000000</td>\n",
       "      <td>12330</td>\n",
       "      <td>12330.000000</td>\n",
       "      <td>12330.000000</td>\n",
       "      <td>12330.000000</td>\n",
       "      <td>12330.000000</td>\n",
       "      <td>12330</td>\n",
       "      <td>12330.000000</td>\n",
       "      <td>12330.000000</td>\n",
       "    </tr>\n",
       "    <tr>\n",
       "      <th>unique</th>\n",
       "      <td>NaN</td>\n",
       "      <td>NaN</td>\n",
       "      <td>NaN</td>\n",
       "      <td>NaN</td>\n",
       "      <td>NaN</td>\n",
       "      <td>NaN</td>\n",
       "      <td>NaN</td>\n",
       "      <td>NaN</td>\n",
       "      <td>NaN</td>\n",
       "      <td>NaN</td>\n",
       "      <td>10</td>\n",
       "      <td>NaN</td>\n",
       "      <td>NaN</td>\n",
       "      <td>NaN</td>\n",
       "      <td>NaN</td>\n",
       "      <td>3</td>\n",
       "      <td>NaN</td>\n",
       "      <td>NaN</td>\n",
       "    </tr>\n",
       "    <tr>\n",
       "      <th>top</th>\n",
       "      <td>NaN</td>\n",
       "      <td>NaN</td>\n",
       "      <td>NaN</td>\n",
       "      <td>NaN</td>\n",
       "      <td>NaN</td>\n",
       "      <td>NaN</td>\n",
       "      <td>NaN</td>\n",
       "      <td>NaN</td>\n",
       "      <td>NaN</td>\n",
       "      <td>NaN</td>\n",
       "      <td>May</td>\n",
       "      <td>NaN</td>\n",
       "      <td>NaN</td>\n",
       "      <td>NaN</td>\n",
       "      <td>NaN</td>\n",
       "      <td>Returning_Visitor</td>\n",
       "      <td>NaN</td>\n",
       "      <td>NaN</td>\n",
       "    </tr>\n",
       "    <tr>\n",
       "      <th>freq</th>\n",
       "      <td>NaN</td>\n",
       "      <td>NaN</td>\n",
       "      <td>NaN</td>\n",
       "      <td>NaN</td>\n",
       "      <td>NaN</td>\n",
       "      <td>NaN</td>\n",
       "      <td>NaN</td>\n",
       "      <td>NaN</td>\n",
       "      <td>NaN</td>\n",
       "      <td>NaN</td>\n",
       "      <td>3364</td>\n",
       "      <td>NaN</td>\n",
       "      <td>NaN</td>\n",
       "      <td>NaN</td>\n",
       "      <td>NaN</td>\n",
       "      <td>10551</td>\n",
       "      <td>NaN</td>\n",
       "      <td>NaN</td>\n",
       "    </tr>\n",
       "    <tr>\n",
       "      <th>mean</th>\n",
       "      <td>2.315166</td>\n",
       "      <td>80.818611</td>\n",
       "      <td>0.503569</td>\n",
       "      <td>34.472398</td>\n",
       "      <td>32.122134</td>\n",
       "      <td>1194.746220</td>\n",
       "      <td>0.022191</td>\n",
       "      <td>0.043073</td>\n",
       "      <td>5.889258</td>\n",
       "      <td>0.061427</td>\n",
       "      <td>NaN</td>\n",
       "      <td>2.124006</td>\n",
       "      <td>2.357097</td>\n",
       "      <td>3.147364</td>\n",
       "      <td>4.069586</td>\n",
       "      <td>NaN</td>\n",
       "      <td>0.232603</td>\n",
       "      <td>0.154745</td>\n",
       "    </tr>\n",
       "    <tr>\n",
       "      <th>std</th>\n",
       "      <td>3.321784</td>\n",
       "      <td>176.779107</td>\n",
       "      <td>1.270156</td>\n",
       "      <td>140.749294</td>\n",
       "      <td>44.898778</td>\n",
       "      <td>1913.669288</td>\n",
       "      <td>0.048488</td>\n",
       "      <td>0.048597</td>\n",
       "      <td>18.568437</td>\n",
       "      <td>0.198917</td>\n",
       "      <td>NaN</td>\n",
       "      <td>0.911325</td>\n",
       "      <td>1.717277</td>\n",
       "      <td>2.401591</td>\n",
       "      <td>4.025169</td>\n",
       "      <td>NaN</td>\n",
       "      <td>0.422509</td>\n",
       "      <td>0.361676</td>\n",
       "    </tr>\n",
       "    <tr>\n",
       "      <th>min</th>\n",
       "      <td>0.000000</td>\n",
       "      <td>0.000000</td>\n",
       "      <td>0.000000</td>\n",
       "      <td>0.000000</td>\n",
       "      <td>0.000000</td>\n",
       "      <td>0.000000</td>\n",
       "      <td>0.000000</td>\n",
       "      <td>0.000000</td>\n",
       "      <td>0.000000</td>\n",
       "      <td>0.000000</td>\n",
       "      <td>NaN</td>\n",
       "      <td>1.000000</td>\n",
       "      <td>1.000000</td>\n",
       "      <td>1.000000</td>\n",
       "      <td>1.000000</td>\n",
       "      <td>NaN</td>\n",
       "      <td>0.000000</td>\n",
       "      <td>0.000000</td>\n",
       "    </tr>\n",
       "    <tr>\n",
       "      <th>25%</th>\n",
       "      <td>0.000000</td>\n",
       "      <td>0.000000</td>\n",
       "      <td>0.000000</td>\n",
       "      <td>0.000000</td>\n",
       "      <td>7.000000</td>\n",
       "      <td>184.137500</td>\n",
       "      <td>0.000000</td>\n",
       "      <td>0.014286</td>\n",
       "      <td>0.000000</td>\n",
       "      <td>0.000000</td>\n",
       "      <td>NaN</td>\n",
       "      <td>2.000000</td>\n",
       "      <td>2.000000</td>\n",
       "      <td>1.000000</td>\n",
       "      <td>2.000000</td>\n",
       "      <td>NaN</td>\n",
       "      <td>0.000000</td>\n",
       "      <td>0.000000</td>\n",
       "    </tr>\n",
       "    <tr>\n",
       "      <th>50%</th>\n",
       "      <td>1.000000</td>\n",
       "      <td>7.500000</td>\n",
       "      <td>0.000000</td>\n",
       "      <td>0.000000</td>\n",
       "      <td>18.000000</td>\n",
       "      <td>598.936905</td>\n",
       "      <td>0.003112</td>\n",
       "      <td>0.025156</td>\n",
       "      <td>0.000000</td>\n",
       "      <td>0.000000</td>\n",
       "      <td>NaN</td>\n",
       "      <td>2.000000</td>\n",
       "      <td>2.000000</td>\n",
       "      <td>3.000000</td>\n",
       "      <td>2.000000</td>\n",
       "      <td>NaN</td>\n",
       "      <td>0.000000</td>\n",
       "      <td>0.000000</td>\n",
       "    </tr>\n",
       "    <tr>\n",
       "      <th>75%</th>\n",
       "      <td>4.000000</td>\n",
       "      <td>93.256250</td>\n",
       "      <td>0.000000</td>\n",
       "      <td>0.000000</td>\n",
       "      <td>38.000000</td>\n",
       "      <td>1464.157214</td>\n",
       "      <td>0.016813</td>\n",
       "      <td>0.050000</td>\n",
       "      <td>0.000000</td>\n",
       "      <td>0.000000</td>\n",
       "      <td>NaN</td>\n",
       "      <td>3.000000</td>\n",
       "      <td>2.000000</td>\n",
       "      <td>4.000000</td>\n",
       "      <td>4.000000</td>\n",
       "      <td>NaN</td>\n",
       "      <td>0.000000</td>\n",
       "      <td>0.000000</td>\n",
       "    </tr>\n",
       "    <tr>\n",
       "      <th>max</th>\n",
       "      <td>27.000000</td>\n",
       "      <td>3398.750000</td>\n",
       "      <td>24.000000</td>\n",
       "      <td>2549.375000</td>\n",
       "      <td>705.000000</td>\n",
       "      <td>63973.522230</td>\n",
       "      <td>0.200000</td>\n",
       "      <td>0.200000</td>\n",
       "      <td>361.763742</td>\n",
       "      <td>1.000000</td>\n",
       "      <td>NaN</td>\n",
       "      <td>8.000000</td>\n",
       "      <td>13.000000</td>\n",
       "      <td>9.000000</td>\n",
       "      <td>20.000000</td>\n",
       "      <td>NaN</td>\n",
       "      <td>1.000000</td>\n",
       "      <td>1.000000</td>\n",
       "    </tr>\n",
       "  </tbody>\n",
       "</table>\n",
       "</div>"
      ],
      "text/plain": [
       "        Administrative  Administrative_Duration  Informational  \\\n",
       "count     12330.000000             12330.000000   12330.000000   \n",
       "unique             NaN                      NaN            NaN   \n",
       "top                NaN                      NaN            NaN   \n",
       "freq               NaN                      NaN            NaN   \n",
       "mean          2.315166                80.818611       0.503569   \n",
       "std           3.321784               176.779107       1.270156   \n",
       "min           0.000000                 0.000000       0.000000   \n",
       "25%           0.000000                 0.000000       0.000000   \n",
       "50%           1.000000                 7.500000       0.000000   \n",
       "75%           4.000000                93.256250       0.000000   \n",
       "max          27.000000              3398.750000      24.000000   \n",
       "\n",
       "        Informational_Duration  ProductRelated  ProductRelated_Duration  \\\n",
       "count             12330.000000    11995.000000             12330.000000   \n",
       "unique                     NaN             NaN                      NaN   \n",
       "top                        NaN             NaN                      NaN   \n",
       "freq                       NaN             NaN                      NaN   \n",
       "mean                 34.472398       32.122134              1194.746220   \n",
       "std                 140.749294       44.898778              1913.669288   \n",
       "min                   0.000000        0.000000                 0.000000   \n",
       "25%                   0.000000        7.000000               184.137500   \n",
       "50%                   0.000000       18.000000               598.936905   \n",
       "75%                   0.000000       38.000000              1464.157214   \n",
       "max                2549.375000      705.000000             63973.522230   \n",
       "\n",
       "         BounceRates     ExitRates    PageValues    SpecialDay  Month  \\\n",
       "count   12330.000000  12330.000000  12330.000000  12330.000000  12330   \n",
       "unique           NaN           NaN           NaN           NaN     10   \n",
       "top              NaN           NaN           NaN           NaN    May   \n",
       "freq             NaN           NaN           NaN           NaN   3364   \n",
       "mean        0.022191      0.043073      5.889258      0.061427    NaN   \n",
       "std         0.048488      0.048597     18.568437      0.198917    NaN   \n",
       "min         0.000000      0.000000      0.000000      0.000000    NaN   \n",
       "25%         0.000000      0.014286      0.000000      0.000000    NaN   \n",
       "50%         0.003112      0.025156      0.000000      0.000000    NaN   \n",
       "75%         0.016813      0.050000      0.000000      0.000000    NaN   \n",
       "max         0.200000      0.200000    361.763742      1.000000    NaN   \n",
       "\n",
       "        OperatingSystems       Browser        Region   TrafficType  \\\n",
       "count       12330.000000  12330.000000  12330.000000  12330.000000   \n",
       "unique               NaN           NaN           NaN           NaN   \n",
       "top                  NaN           NaN           NaN           NaN   \n",
       "freq                 NaN           NaN           NaN           NaN   \n",
       "mean            2.124006      2.357097      3.147364      4.069586   \n",
       "std             0.911325      1.717277      2.401591      4.025169   \n",
       "min             1.000000      1.000000      1.000000      1.000000   \n",
       "25%             2.000000      2.000000      1.000000      2.000000   \n",
       "50%             2.000000      2.000000      3.000000      2.000000   \n",
       "75%             3.000000      2.000000      4.000000      4.000000   \n",
       "max             8.000000     13.000000      9.000000     20.000000   \n",
       "\n",
       "              VisitorType       Weekend       Revenue  \n",
       "count               12330  12330.000000  12330.000000  \n",
       "unique                  3           NaN           NaN  \n",
       "top     Returning_Visitor           NaN           NaN  \n",
       "freq                10551           NaN           NaN  \n",
       "mean                  NaN      0.232603      0.154745  \n",
       "std                   NaN      0.422509      0.361676  \n",
       "min                   NaN      0.000000      0.000000  \n",
       "25%                   NaN      0.000000      0.000000  \n",
       "50%                   NaN      0.000000      0.000000  \n",
       "75%                   NaN      0.000000      0.000000  \n",
       "max                   NaN      1.000000      1.000000  "
      ]
     },
     "execution_count": 87,
     "metadata": {},
     "output_type": "execute_result"
    }
   ],
   "source": [
    "# Use describe() to print out summary statistics for the dataframe\n",
    "df.describe(include='all')"
   ]
  },
  {
   "cell_type": "markdown",
   "id": "1773fe1f",
   "metadata": {},
   "source": [
    "I would consider \"Administrative_Duration\", \"Informational_Duration\" and \"ProductRelated_Duration\" more carefully as they have a larger standard deviation, which means the data is distributed more scattered."
   ]
  },
  {
   "cell_type": "markdown",
   "id": "09bbe654",
   "metadata": {},
   "source": [
    "__6. Handle any missing data in your training data, but do not simply delete the rows. In your notebook, discuss why you chose to handle the missing data that way.__\n",
    "\n",
    "__7. The holdout dataset also contains missing data. Discuss and implement how you recovered those items, without deleting those rows.__"
   ]
  },
  {
   "cell_type": "code",
   "execution_count": 88,
   "id": "e4f980d4",
   "metadata": {},
   "outputs": [
    {
     "name": "stderr",
     "output_type": "stream",
     "text": [
      "D:\\anaconda3\\lib\\site-packages\\pandas\\core\\generic.py:6392: SettingWithCopyWarning: \n",
      "A value is trying to be set on a copy of a slice from a DataFrame\n",
      "\n",
      "See the caveats in the documentation: https://pandas.pydata.org/pandas-docs/stable/user_guide/indexing.html#returning-a-view-versus-a-copy\n",
      "  return self._update_inplace(result)\n"
     ]
    }
   ],
   "source": [
    "# Replace missing values with the most frequently exist value in the feature\n",
    "df_train[\"ProductRelated\"].fillna(1, inplace = True)\n",
    "df_holdout[\"ProductRelated\"].fillna(1, inplace = True)"
   ]
  },
  {
   "cell_type": "markdown",
   "id": "55bd567e",
   "metadata": {},
   "source": [
    "Since the missing value only contains less than 3% of total data in the feature, replacing them with the most frequently exist value would not affect too much when the model is learning."
   ]
  },
  {
   "cell_type": "markdown",
   "id": "797d24b0",
   "metadata": {},
   "source": [
    "__8. Discuss (and implement if applicable) whether or not you need to scale/normalize your features, and which ones, if any.__"
   ]
  },
  {
   "cell_type": "markdown",
   "id": "439f1bc3",
   "metadata": {},
   "source": [
    "For numerical features like:\n",
    "\"Administrative_Duration\" has a max value of 3398; \n",
    "\"Informational_Duration\" has a max value of 2549;\n",
    "\"ProductRelated\" has a max value of 705;\n",
    "\"ProductRelated_Duration\" has a max value of 63973;\n",
    "\"PageValues\" has a max value of 361.\n",
    "These features need to be sacled since their range is wide"
   ]
  },
  {
   "cell_type": "code",
   "execution_count": 89,
   "id": "d4ff88e6",
   "metadata": {},
   "outputs": [],
   "source": [
    "scaler = MinMaxScaler()\n",
    "\n",
    "df[['Administrative_Duration', 'Informational_Duration', \"ProductRelated\", \"ProductRelated_Duration\", \"PageValues\"]] = scaler.fit_transform(df[['Administrative_Duration', 'Informational_Duration', \"ProductRelated\", \"ProductRelated_Duration\", \"PageValues\"]])"
   ]
  },
  {
   "cell_type": "code",
   "execution_count": 90,
   "id": "b8ba33bf",
   "metadata": {},
   "outputs": [
    {
     "data": {
      "text/html": [
       "<div>\n",
       "<style scoped>\n",
       "    .dataframe tbody tr th:only-of-type {\n",
       "        vertical-align: middle;\n",
       "    }\n",
       "\n",
       "    .dataframe tbody tr th {\n",
       "        vertical-align: top;\n",
       "    }\n",
       "\n",
       "    .dataframe thead th {\n",
       "        text-align: right;\n",
       "    }\n",
       "</style>\n",
       "<table border=\"1\" class=\"dataframe\">\n",
       "  <thead>\n",
       "    <tr style=\"text-align: right;\">\n",
       "      <th></th>\n",
       "      <th>Administrative</th>\n",
       "      <th>Administrative_Duration</th>\n",
       "      <th>Informational</th>\n",
       "      <th>Informational_Duration</th>\n",
       "      <th>ProductRelated</th>\n",
       "      <th>ProductRelated_Duration</th>\n",
       "      <th>BounceRates</th>\n",
       "      <th>ExitRates</th>\n",
       "      <th>PageValues</th>\n",
       "      <th>SpecialDay</th>\n",
       "      <th>Month</th>\n",
       "      <th>OperatingSystems</th>\n",
       "      <th>Browser</th>\n",
       "      <th>Region</th>\n",
       "      <th>TrafficType</th>\n",
       "      <th>VisitorType</th>\n",
       "      <th>Weekend</th>\n",
       "      <th>Revenue</th>\n",
       "    </tr>\n",
       "  </thead>\n",
       "  <tbody>\n",
       "    <tr>\n",
       "      <th>1</th>\n",
       "      <td>0</td>\n",
       "      <td>0.000000</td>\n",
       "      <td>0</td>\n",
       "      <td>0.0</td>\n",
       "      <td>0.001418</td>\n",
       "      <td>0.000000</td>\n",
       "      <td>0.200000</td>\n",
       "      <td>0.200000</td>\n",
       "      <td>0.000000</td>\n",
       "      <td>0.0</td>\n",
       "      <td>Feb</td>\n",
       "      <td>1</td>\n",
       "      <td>1</td>\n",
       "      <td>1</td>\n",
       "      <td>1</td>\n",
       "      <td>Returning_Visitor</td>\n",
       "      <td>0</td>\n",
       "      <td>0</td>\n",
       "    </tr>\n",
       "    <tr>\n",
       "      <th>2</th>\n",
       "      <td>0</td>\n",
       "      <td>0.000000</td>\n",
       "      <td>0</td>\n",
       "      <td>0.0</td>\n",
       "      <td>0.002837</td>\n",
       "      <td>0.001000</td>\n",
       "      <td>0.000000</td>\n",
       "      <td>0.100000</td>\n",
       "      <td>0.000000</td>\n",
       "      <td>0.0</td>\n",
       "      <td>Feb</td>\n",
       "      <td>2</td>\n",
       "      <td>2</td>\n",
       "      <td>1</td>\n",
       "      <td>2</td>\n",
       "      <td>Returning_Visitor</td>\n",
       "      <td>0</td>\n",
       "      <td>0</td>\n",
       "    </tr>\n",
       "    <tr>\n",
       "      <th>3</th>\n",
       "      <td>0</td>\n",
       "      <td>0.000000</td>\n",
       "      <td>0</td>\n",
       "      <td>0.0</td>\n",
       "      <td>0.001418</td>\n",
       "      <td>0.000000</td>\n",
       "      <td>0.200000</td>\n",
       "      <td>0.200000</td>\n",
       "      <td>0.000000</td>\n",
       "      <td>0.0</td>\n",
       "      <td>Feb</td>\n",
       "      <td>4</td>\n",
       "      <td>1</td>\n",
       "      <td>9</td>\n",
       "      <td>3</td>\n",
       "      <td>Returning_Visitor</td>\n",
       "      <td>0</td>\n",
       "      <td>0</td>\n",
       "    </tr>\n",
       "    <tr>\n",
       "      <th>4</th>\n",
       "      <td>0</td>\n",
       "      <td>0.000000</td>\n",
       "      <td>0</td>\n",
       "      <td>0.0</td>\n",
       "      <td>0.002837</td>\n",
       "      <td>0.000042</td>\n",
       "      <td>0.050000</td>\n",
       "      <td>0.140000</td>\n",
       "      <td>0.000000</td>\n",
       "      <td>0.0</td>\n",
       "      <td>Feb</td>\n",
       "      <td>3</td>\n",
       "      <td>2</td>\n",
       "      <td>2</td>\n",
       "      <td>4</td>\n",
       "      <td>Returning_Visitor</td>\n",
       "      <td>0</td>\n",
       "      <td>0</td>\n",
       "    </tr>\n",
       "    <tr>\n",
       "      <th>5</th>\n",
       "      <td>0</td>\n",
       "      <td>0.000000</td>\n",
       "      <td>0</td>\n",
       "      <td>0.0</td>\n",
       "      <td>0.014184</td>\n",
       "      <td>0.009809</td>\n",
       "      <td>0.020000</td>\n",
       "      <td>0.050000</td>\n",
       "      <td>0.000000</td>\n",
       "      <td>0.0</td>\n",
       "      <td>Feb</td>\n",
       "      <td>3</td>\n",
       "      <td>3</td>\n",
       "      <td>1</td>\n",
       "      <td>4</td>\n",
       "      <td>Returning_Visitor</td>\n",
       "      <td>1</td>\n",
       "      <td>0</td>\n",
       "    </tr>\n",
       "    <tr>\n",
       "      <th>...</th>\n",
       "      <td>...</td>\n",
       "      <td>...</td>\n",
       "      <td>...</td>\n",
       "      <td>...</td>\n",
       "      <td>...</td>\n",
       "      <td>...</td>\n",
       "      <td>...</td>\n",
       "      <td>...</td>\n",
       "      <td>...</td>\n",
       "      <td>...</td>\n",
       "      <td>...</td>\n",
       "      <td>...</td>\n",
       "      <td>...</td>\n",
       "      <td>...</td>\n",
       "      <td>...</td>\n",
       "      <td>...</td>\n",
       "      <td>...</td>\n",
       "      <td>...</td>\n",
       "    </tr>\n",
       "    <tr>\n",
       "      <th>12326</th>\n",
       "      <td>3</td>\n",
       "      <td>0.042663</td>\n",
       "      <td>0</td>\n",
       "      <td>0.0</td>\n",
       "      <td>0.075177</td>\n",
       "      <td>0.027883</td>\n",
       "      <td>0.007143</td>\n",
       "      <td>0.029031</td>\n",
       "      <td>0.033839</td>\n",
       "      <td>0.0</td>\n",
       "      <td>Dec</td>\n",
       "      <td>4</td>\n",
       "      <td>6</td>\n",
       "      <td>1</td>\n",
       "      <td>1</td>\n",
       "      <td>Returning_Visitor</td>\n",
       "      <td>1</td>\n",
       "      <td>0</td>\n",
       "    </tr>\n",
       "    <tr>\n",
       "      <th>12327</th>\n",
       "      <td>0</td>\n",
       "      <td>0.000000</td>\n",
       "      <td>0</td>\n",
       "      <td>0.0</td>\n",
       "      <td>0.007092</td>\n",
       "      <td>0.007280</td>\n",
       "      <td>0.000000</td>\n",
       "      <td>0.021333</td>\n",
       "      <td>0.000000</td>\n",
       "      <td>0.0</td>\n",
       "      <td>Nov</td>\n",
       "      <td>3</td>\n",
       "      <td>2</td>\n",
       "      <td>1</td>\n",
       "      <td>8</td>\n",
       "      <td>Returning_Visitor</td>\n",
       "      <td>1</td>\n",
       "      <td>0</td>\n",
       "    </tr>\n",
       "    <tr>\n",
       "      <th>12328</th>\n",
       "      <td>0</td>\n",
       "      <td>0.000000</td>\n",
       "      <td>0</td>\n",
       "      <td>0.0</td>\n",
       "      <td>0.008511</td>\n",
       "      <td>0.002880</td>\n",
       "      <td>0.083333</td>\n",
       "      <td>0.086667</td>\n",
       "      <td>0.000000</td>\n",
       "      <td>0.0</td>\n",
       "      <td>Nov</td>\n",
       "      <td>3</td>\n",
       "      <td>2</td>\n",
       "      <td>1</td>\n",
       "      <td>13</td>\n",
       "      <td>Returning_Visitor</td>\n",
       "      <td>1</td>\n",
       "      <td>0</td>\n",
       "    </tr>\n",
       "    <tr>\n",
       "      <th>12329</th>\n",
       "      <td>4</td>\n",
       "      <td>0.022067</td>\n",
       "      <td>0</td>\n",
       "      <td>0.0</td>\n",
       "      <td>0.021277</td>\n",
       "      <td>0.005408</td>\n",
       "      <td>0.000000</td>\n",
       "      <td>0.021053</td>\n",
       "      <td>0.000000</td>\n",
       "      <td>0.0</td>\n",
       "      <td>Nov</td>\n",
       "      <td>2</td>\n",
       "      <td>2</td>\n",
       "      <td>3</td>\n",
       "      <td>11</td>\n",
       "      <td>Returning_Visitor</td>\n",
       "      <td>0</td>\n",
       "      <td>0</td>\n",
       "    </tr>\n",
       "    <tr>\n",
       "      <th>12330</th>\n",
       "      <td>0</td>\n",
       "      <td>0.000000</td>\n",
       "      <td>0</td>\n",
       "      <td>0.0</td>\n",
       "      <td>0.004255</td>\n",
       "      <td>0.000332</td>\n",
       "      <td>0.000000</td>\n",
       "      <td>0.066667</td>\n",
       "      <td>0.000000</td>\n",
       "      <td>0.0</td>\n",
       "      <td>Nov</td>\n",
       "      <td>3</td>\n",
       "      <td>2</td>\n",
       "      <td>1</td>\n",
       "      <td>2</td>\n",
       "      <td>New_Visitor</td>\n",
       "      <td>1</td>\n",
       "      <td>0</td>\n",
       "    </tr>\n",
       "  </tbody>\n",
       "</table>\n",
       "<p>12330 rows × 18 columns</p>\n",
       "</div>"
      ],
      "text/plain": [
       "       Administrative  Administrative_Duration  Informational  \\\n",
       "1                   0                 0.000000              0   \n",
       "2                   0                 0.000000              0   \n",
       "3                   0                 0.000000              0   \n",
       "4                   0                 0.000000              0   \n",
       "5                   0                 0.000000              0   \n",
       "...               ...                      ...            ...   \n",
       "12326               3                 0.042663              0   \n",
       "12327               0                 0.000000              0   \n",
       "12328               0                 0.000000              0   \n",
       "12329               4                 0.022067              0   \n",
       "12330               0                 0.000000              0   \n",
       "\n",
       "       Informational_Duration  ProductRelated  ProductRelated_Duration  \\\n",
       "1                         0.0        0.001418                 0.000000   \n",
       "2                         0.0        0.002837                 0.001000   \n",
       "3                         0.0        0.001418                 0.000000   \n",
       "4                         0.0        0.002837                 0.000042   \n",
       "5                         0.0        0.014184                 0.009809   \n",
       "...                       ...             ...                      ...   \n",
       "12326                     0.0        0.075177                 0.027883   \n",
       "12327                     0.0        0.007092                 0.007280   \n",
       "12328                     0.0        0.008511                 0.002880   \n",
       "12329                     0.0        0.021277                 0.005408   \n",
       "12330                     0.0        0.004255                 0.000332   \n",
       "\n",
       "       BounceRates  ExitRates  PageValues  SpecialDay Month  OperatingSystems  \\\n",
       "1         0.200000   0.200000    0.000000         0.0   Feb                 1   \n",
       "2         0.000000   0.100000    0.000000         0.0   Feb                 2   \n",
       "3         0.200000   0.200000    0.000000         0.0   Feb                 4   \n",
       "4         0.050000   0.140000    0.000000         0.0   Feb                 3   \n",
       "5         0.020000   0.050000    0.000000         0.0   Feb                 3   \n",
       "...            ...        ...         ...         ...   ...               ...   \n",
       "12326     0.007143   0.029031    0.033839         0.0   Dec                 4   \n",
       "12327     0.000000   0.021333    0.000000         0.0   Nov                 3   \n",
       "12328     0.083333   0.086667    0.000000         0.0   Nov                 3   \n",
       "12329     0.000000   0.021053    0.000000         0.0   Nov                 2   \n",
       "12330     0.000000   0.066667    0.000000         0.0   Nov                 3   \n",
       "\n",
       "       Browser  Region  TrafficType        VisitorType  Weekend  Revenue  \n",
       "1            1       1            1  Returning_Visitor        0        0  \n",
       "2            2       1            2  Returning_Visitor        0        0  \n",
       "3            1       9            3  Returning_Visitor        0        0  \n",
       "4            2       2            4  Returning_Visitor        0        0  \n",
       "5            3       1            4  Returning_Visitor        1        0  \n",
       "...        ...     ...          ...                ...      ...      ...  \n",
       "12326        6       1            1  Returning_Visitor        1        0  \n",
       "12327        2       1            8  Returning_Visitor        1        0  \n",
       "12328        2       1           13  Returning_Visitor        1        0  \n",
       "12329        2       3           11  Returning_Visitor        0        0  \n",
       "12330        2       1            2        New_Visitor        1        0  \n",
       "\n",
       "[12330 rows x 18 columns]"
      ]
     },
     "execution_count": 90,
     "metadata": {},
     "output_type": "execute_result"
    }
   ],
   "source": [
    "df"
   ]
  },
  {
   "cell_type": "markdown",
   "id": "bd853a7e",
   "metadata": {},
   "source": [
    "__9. There are several categorical features. Discuss and implement if you will encode them as ordinal numbers, or one-hot encode them, and why you chose to do so for each such feature.__"
   ]
  },
  {
   "cell_type": "markdown",
   "id": "1bea0d9d",
   "metadata": {},
   "source": [
    "The \"Month\" and \"VisitorType\" should be convert into numerical(binary) value, and they should be one-hot encoded. The \"Revenue\" and \"Weekend\" features should be converted into binary for the ease of calculation. (Already implemented in cell 3)"
   ]
  },
  {
   "cell_type": "code",
   "execution_count": 91,
   "id": "ff6594ca",
   "metadata": {
    "scrolled": true
   },
   "outputs": [
    {
     "name": "stdout",
     "output_type": "stream",
     "text": [
      "<class 'pandas.core.frame.DataFrame'>\n",
      "Int64Index: 12330 entries, 1 to 12330\n",
      "Data columns (total 29 columns):\n",
      " #   Column                         Non-Null Count  Dtype  \n",
      "---  ------                         --------------  -----  \n",
      " 0   Administrative                 12330 non-null  int64  \n",
      " 1   Administrative_Duration        12330 non-null  float64\n",
      " 2   Informational                  12330 non-null  int64  \n",
      " 3   Informational_Duration         12330 non-null  float64\n",
      " 4   ProductRelated                 12330 non-null  float64\n",
      " 5   ProductRelated_Duration        12330 non-null  float64\n",
      " 6   BounceRates                    12330 non-null  float64\n",
      " 7   ExitRates                      12330 non-null  float64\n",
      " 8   PageValues                     12330 non-null  float64\n",
      " 9   SpecialDay                     12330 non-null  float64\n",
      " 10  OperatingSystems               12330 non-null  int64  \n",
      " 11  Browser                        12330 non-null  int64  \n",
      " 12  Region                         12330 non-null  int64  \n",
      " 13  TrafficType                    12330 non-null  int64  \n",
      " 14  Weekend                        12330 non-null  int32  \n",
      " 15  Revenue                        12330 non-null  int32  \n",
      " 16  Month_Aug                      12330 non-null  uint8  \n",
      " 17  Month_Dec                      12330 non-null  uint8  \n",
      " 18  Month_Feb                      12330 non-null  uint8  \n",
      " 19  Month_Jul                      12330 non-null  uint8  \n",
      " 20  Month_June                     12330 non-null  uint8  \n",
      " 21  Month_Mar                      12330 non-null  uint8  \n",
      " 22  Month_May                      12330 non-null  uint8  \n",
      " 23  Month_Nov                      12330 non-null  uint8  \n",
      " 24  Month_Oct                      12330 non-null  uint8  \n",
      " 25  Month_Sep                      12330 non-null  uint8  \n",
      " 26  VisitorType_New_Visitor        12330 non-null  uint8  \n",
      " 27  VisitorType_Other              12330 non-null  uint8  \n",
      " 28  VisitorType_Returning_Visitor  12330 non-null  uint8  \n",
      "dtypes: float64(8), int32(2), int64(6), uint8(13)\n",
      "memory usage: 1.7 MB\n",
      "None\n"
     ]
    }
   ],
   "source": [
    "# Since the earlier split is not ideal, a new data split is shown below\n",
    "# transform \"Month\" and \"VisitorType\" into binary values and one-hot encoded\n",
    "df_transform = pd.concat([df,pd.get_dummies(df['Month'], prefix='Month')], axis=1).drop(['Month'],axis=1)\n",
    "df_transform = pd.concat([df_transform,pd.get_dummies(df_transform['VisitorType'], prefix='VisitorType')], axis=1).drop(['VisitorType'],axis=1)\n",
    "print(df_transform.info())"
   ]
  },
  {
   "cell_type": "code",
   "execution_count": 92,
   "id": "bd684225",
   "metadata": {},
   "outputs": [],
   "source": [
    "df_train = df_transform.iloc[:9999,:]\n",
    "df_holdout = df_transform.iloc[9999:,:]"
   ]
  },
  {
   "cell_type": "markdown",
   "id": "c5c6aa6d",
   "metadata": {},
   "source": [
    "__10. You don't need to implement this, but in the dataset, were there any ordinal features that they authors should have recorded as categorical, in your opinion? Why or why not? Discuss in a markdown cell.__"
   ]
  },
  {
   "cell_type": "markdown",
   "id": "2eae752e",
   "metadata": {},
   "source": [
    "I think the \"Special_Day\" feature should be categorical into a \"is Special_Day\" or \"is_not_Special_Day\". As almost 90% of the value in the data sample is 0. <br>\n",
    "Besides, the \"Page_Value\" feature also have a imbalanced distribution (around 77% is 0), thus I think it can also be transformed to categorical"
   ]
  },
  {
   "cell_type": "markdown",
   "id": "5e690d98",
   "metadata": {},
   "source": [
    "__11. Use a heatmap to show the correlation between all feature pairs. Discuss, if any, which features you would recommend dropping from your model. Also discuss why you would want to drop them (what is the expected benefit?)__"
   ]
  },
  {
   "cell_type": "code",
   "execution_count": 93,
   "id": "36d8a7b9",
   "metadata": {},
   "outputs": [
    {
     "data": {
      "image/png": "[encoded data removed]",
      "text/plain": [
       "<Figure size 864x864 with 2 Axes>"
      ]
     },
     "metadata": {
      "needs_background": "light"
     },
     "output_type": "display_data"
    }
   ],
   "source": [
    "# Using heatmap to see correlation analysis of dataframe\n",
    "matrix = np.triu(df.corr())\n",
    "fig, ax = plt.subplots(figsize=(12,12))\n",
    "sns.heatmap(df.corr(), annot=True, ax=ax, fmt='.1g', vmin=-1, vmax=1, center= 0, mask=matrix, cmap='RdBu_r')\n",
    "plt.show()"
   ]
  },
  {
   "cell_type": "markdown",
   "id": "c55bf003",
   "metadata": {},
   "source": [
    "From the graph plotted, I would consider \"TrafficType\" as a feature to drop. Since it has the least correlation score with the target \"Revenue\", and the correlation with other features also remain low (max: 0.2 with OS, which makes sense since traffictype is highly related to OS). By dropping this feature, it might reduce nosie of data, and the model might have a better training result."
   ]
  },
  {
   "cell_type": "markdown",
   "id": "74a35e0c",
   "metadata": {},
   "source": [
    "__12. Given what you know about the limitations of RandomForests, engineer one additional feature, and discuss why you think it might help the model.__"
   ]
  },
  {
   "cell_type": "markdown",
   "id": "882107f4",
   "metadata": {},
   "source": [
    "Since in \"OperatingSystems\" feature, value 2 is responsible for around 6600 examples, and value 5 ~ 8 only responsible for a relatively small number of sample, we could combine 5 to 8 into 5 only, thus teh random forest would be faster as less separation exist."
   ]
  },
  {
   "cell_type": "code",
   "execution_count": 94,
   "id": "bb177995",
   "metadata": {},
   "outputs": [
    {
     "name": "stderr",
     "output_type": "stream",
     "text": [
      "D:\\anaconda3\\lib\\site-packages\\pandas\\core\\generic.py:6619: SettingWithCopyWarning: \n",
      "A value is trying to be set on a copy of a slice from a DataFrame\n",
      "\n",
      "See the caveats in the documentation: https://pandas.pydata.org/pandas-docs/stable/user_guide/indexing.html#returning-a-view-versus-a-copy\n",
      "  return self._update_inplace(result)\n"
     ]
    }
   ],
   "source": [
    "df_train[\"OperatingSystems\"].replace([6, 7, 8], 5, inplace=True)\n",
    "df_holdout[\"OperatingSystems\"].replace([6, 7, 8], 5, inplace=True)"
   ]
  },
  {
   "cell_type": "markdown",
   "id": "1a151776",
   "metadata": {},
   "source": [
    "__13. Separate your training data into features and labels (X and y).__"
   ]
  },
  {
   "cell_type": "code",
   "execution_count": 95,
   "id": "bb4f57b6",
   "metadata": {},
   "outputs": [],
   "source": [
    "y = df_train[\"Revenue\"]\n",
    "X = df_train.drop([\"Revenue\"], axis = 1)"
   ]
  },
  {
   "cell_type": "markdown",
   "id": "6917873d",
   "metadata": {},
   "source": [
    "__The labels for this dataset are highly imbalanced. Discuss and implement how you will handle this situation for this analysis.__"
   ]
  },
  {
   "cell_type": "markdown",
   "id": "c128f08b",
   "metadata": {},
   "source": [
    "Use under-sampling to randomly choose out 1440 with \"Revenue\" of value 0 from 8559 examples."
   ]
  },
  {
   "cell_type": "code",
   "execution_count": 96,
   "id": "133f1db4",
   "metadata": {
    "scrolled": true
   },
   "outputs": [
    {
     "data": {
      "text/plain": [
       "0    8559\n",
       "1    1440\n",
       "Name: Revenue, dtype: int64"
      ]
     },
     "execution_count": 96,
     "metadata": {},
     "output_type": "execute_result"
    }
   ],
   "source": [
    "df_train[\"Revenue\"].value_counts()"
   ]
  },
  {
   "cell_type": "code",
   "execution_count": 97,
   "id": "47f0e7a7",
   "metadata": {
    "scrolled": true
   },
   "outputs": [],
   "source": [
    "# Under-sampling to solve the imbalance\n",
    "\n",
    "X_balanced, y_balanced = make_imbalance(X, y, sampling_strategy={0: 1440, 1: 1440},random_state=26)\n",
    "\n",
    "X_train, X_test, y_train, y_test = train_test_split(X_balanced, y_balanced, test_size=0.3)"
   ]
  },
  {
   "cell_type": "markdown",
   "id": "1cb679cb",
   "metadata": {},
   "source": [
    "__14. Instantiate a RandomForest model of your choosing. Define a grid to tune at least three different hyperparameters with at least two different values each. Discuss why you think these parameter values might be useful for this dataset.__"
   ]
  },
  {
   "cell_type": "code",
   "execution_count": 98,
   "id": "6147537a",
   "metadata": {},
   "outputs": [],
   "source": [
    "# The number of trees in the forest: (Since we have a decent amount of features and their values, a larger forest is needed)\n",
    "# The maximum depth of the tree: (An early stop for preventing overfitting)\n",
    "# The minimum number of samples required to be at a leaf node: (Also lead to an early stop for preventing overfitting)\n",
    "# The number of features to consider when looking for the best split: (Might help prevent overfitting)\n",
    "rfc = RandomForestClassifier()\n",
    "param_grid = {'n_estimators': [10,100,500,1000,5000], \n",
    "                  'max_features': ['sqrt', 'log2'],\n",
    "                  'max_depth': [10,15,20,40],\n",
    "                  'min_samples_split': [3,5,7]}"
   ]
  },
  {
   "cell_type": "markdown",
   "id": "3e724c31",
   "metadata": {},
   "source": [
    "__15. Set up a gridsearchCV with 5-fold cross validation. Discuss what accuracy metric you chose and why.__"
   ]
  },
  {
   "cell_type": "code",
   "execution_count": 99,
   "id": "f6aff9a7",
   "metadata": {},
   "outputs": [],
   "source": [
    "# Number of jobs to run in parallel: -1 (to improve speed)\n",
    "CV_rfc = ms.GridSearchCV(estimator=rfc, param_grid=param_grid, cv= 5, n_jobs = -1)"
   ]
  },
  {
   "cell_type": "markdown",
   "id": "8150f187",
   "metadata": {},
   "source": [
    "__16. Train your model using gridsearchCV, and report the best performing hyperparameters.__<br>\n",
    "__17. Calculate accuracy, precision and recall on the holdout dataset. Discuss which metric you think is most meaningful for this dataset, and why.__"
   ]
  },
  {
   "cell_type": "code",
   "execution_count": 100,
   "id": "1eba1e14",
   "metadata": {},
   "outputs": [
    {
     "data": {
      "text/plain": [
       "GridSearchCV(cv=5, estimator=RandomForestClassifier(), n_jobs=-1,\n",
       "             param_grid={'max_depth': [10, 15, 20, 40],\n",
       "                         'max_features': ['sqrt', 'log2'],\n",
       "                         'min_samples_split': [3, 5, 7],\n",
       "                         'n_estimators': [10, 100, 500, 1000, 5000]})"
      ]
     },
     "execution_count": 100,
     "metadata": {},
     "output_type": "execute_result"
    }
   ],
   "source": [
    "CV_rfc.fit(X_train, y_train)"
   ]
  },
  {
   "cell_type": "code",
   "execution_count": 170,
   "id": "5abe8b26",
   "metadata": {},
   "outputs": [
    {
     "data": {
      "text/plain": [
       "{'max_depth': 15,\n",
       " 'max_features': 'sqrt',\n",
       " 'min_samples_split': 3,\n",
       " 'n_estimators': 100}"
      ]
     },
     "execution_count": 170,
     "metadata": {},
     "output_type": "execute_result"
    }
   ],
   "source": [
    "CV_rfc.best_params_"
   ]
  },
  {
   "cell_type": "code",
   "execution_count": 101,
   "id": "f030b185",
   "metadata": {},
   "outputs": [
    {
     "data": {
      "text/plain": [
       "RandomForestClassifier(max_depth=20, max_features='sqrt', min_samples_split=5,\n",
       "                       n_estimators=1000)"
      ]
     },
     "execution_count": 101,
     "metadata": {},
     "output_type": "execute_result"
    }
   ],
   "source": [
    "CV_rfc.best_estimator_"
   ]
  },
  {
   "cell_type": "code",
   "execution_count": 105,
   "id": "43c6f922",
   "metadata": {
    "scrolled": true
   },
   "outputs": [
    {
     "name": "stdout",
     "output_type": "stream",
     "text": [
      "Random Forest Performance on test set:\n",
      "--------------------------------\n",
      "Accuracy        :  0.875\n",
      "F1 Score        :  0.8761467889908258\n",
      "Precision       :  0.8662131519274376\n",
      "Recall          :  0.8863109048723898\n"
     ]
    }
   ],
   "source": [
    "# Test set performance\n",
    "Op_rfc = RandomForestClassifier(max_depth=15, max_features='sqrt', min_samples_split=3)\n",
    "Op_rfc.fit(X_train,y_train)\n",
    "\n",
    "Op_rfc_pre = Op_rfc.predict(X_test)\n",
    "\n",
    "print('Random Forest Performance on test set:')\n",
    "print('--------------------------------')\n",
    "print('Accuracy        : ', metrics.accuracy_score(y_test, Op_rfc_pre))\n",
    "print('F1 Score        : ', metrics.f1_score(y_test, Op_rfc_pre))\n",
    "print('Precision       : ', metrics.precision_score(y_test, Op_rfc_pre))\n",
    "print('Recall          : ', metrics.recall_score(y_test, Op_rfc_pre))"
   ]
  },
  {
   "cell_type": "code",
   "execution_count": 108,
   "id": "76b7d64b",
   "metadata": {},
   "outputs": [
    {
     "name": "stdout",
     "output_type": "stream",
     "text": [
      "Random Forest Performance on Holdout:\n",
      "--------------------------------\n",
      "Accuracy        :  0.7996567996567997\n",
      "F1 Score        :  0.6105087572977481\n",
      "Precision       :  0.5006839945280438\n",
      "Recall          :  0.782051282051282\n"
     ]
    }
   ],
   "source": [
    "# Holdout set performance\n",
    "y_holdout = df_holdout[\"Revenue\"]\n",
    "X_holdout = df_holdout.drop([\"Revenue\"], axis = 1)\n",
    "\n",
    "holdout_rfc_pre = Op_rfc.predict(X_holdout)\n",
    "\n",
    "print('Random Forest Performance on Holdout:')\n",
    "print('--------------------------------')\n",
    "print('Accuracy        : ', metrics.accuracy_score(y_holdout, holdout_rfc_pre))\n",
    "print('F1 Score        : ', metrics.f1_score(y_holdout, holdout_rfc_pre))\n",
    "print('Precision       : ', metrics.precision_score(y_holdout, holdout_rfc_pre))\n",
    "print('Recall          : ', metrics.recall_score(y_holdout, holdout_rfc_pre))"
   ]
  },
  {
   "cell_type": "markdown",
   "id": "dfa9cdf2",
   "metadata": {},
   "source": [
    "In our case, the recall is more important, as a company, we want our profit maximized, so we do not care about \"false possitive\", but \"false negative\" (which means those who would purchase but missed by model)"
   ]
  },
  {
   "cell_type": "markdown",
   "id": "f2562fda",
   "metadata": {},
   "source": [
    "__18. Discuss how the model performance on holdout compares to the model performance during training. Do you think your model will generalize well? Why or why not?__"
   ]
  },
  {
   "cell_type": "markdown",
   "id": "f3f33b46",
   "metadata": {},
   "source": [
    "As shown above, using the validation set (X_test,y_test), the recall acurracy is around 90%. for holdout set (X_holdout, y_holdout), the recall accuracy is around 80%. Since the scores different by 10% (and relatively high) ,so I think the model does overfit a little, but it still has a considerably good score (near 80%)."
   ]
  },
  {
   "cell_type": "markdown",
   "id": "213e5726",
   "metadata": {},
   "source": [
    "__19. Generate a confusion matrix and discuss your results.__"
   ]
  },
  {
   "cell_type": "code",
   "execution_count": 112,
   "id": "064b7f78",
   "metadata": {},
   "outputs": [
    {
     "name": "stdout",
     "output_type": "stream",
     "text": [
      "Confusion Matrix:\n",
      "  [[1498  365]\n",
      " [ 102  366]]\n"
     ]
    },
    {
     "data": {
      "image/png": "[encoded data removed]",
      "text/plain": [
       "<Figure size 432x288 with 2 Axes>"
      ]
     },
     "metadata": {
      "needs_background": "light"
     },
     "output_type": "display_data"
    }
   ],
   "source": [
    "print('Confusion Matrix:\\n ', confusion_matrix(y_holdout, holdout_rfc_pre))\n",
    "\n",
    "ax = sns.heatmap(confusion_matrix(y_holdout, holdout_rfc_pre), annot=True, cmap='Blues')\n",
    "\n",
    "ax.set_title('Seaborn Confusion Matrix with labels\\n\\n');\n",
    "ax.set_xlabel('\\nPredicted Values')\n",
    "ax.set_ylabel('Actual Values ');\n",
    "\n",
    "# Ticket labels - List must be in alphabetical order\n",
    "ax.xaxis.set_ticklabels(['False','True'])\n",
    "ax.yaxis.set_ticklabels(['False','True'])\n",
    "\n",
    "# Display the visualization of the Confusion Matrix.\n",
    "plt.show()"
   ]
  },
  {
   "cell_type": "markdown",
   "id": "4640590c",
   "metadata": {},
   "source": [
    "For group 1 (the first vector in the matrix, represent \"will not buy\"), rate of correctness is around 81% <br>\n",
    "For group 2 (the second vector in the matrix, represent \"Will Buy\"), rate of correctness is around 78% (which is the recall)"
   ]
  },
  {
   "cell_type": "markdown",
   "id": "e74d77e9",
   "metadata": {},
   "source": [
    "__20. Print out the feature importances of your model.__"
   ]
  },
  {
   "cell_type": "code",
   "execution_count": 113,
   "id": "1c32b72b",
   "metadata": {},
   "outputs": [
    {
     "name": "stdout",
     "output_type": "stream",
     "text": [
      "Feature: 0, Score: 0.03524\n",
      "Feature: 1, Score: 0.05255\n",
      "Feature: 2, Score: 0.01399\n",
      "Feature: 3, Score: 0.02137\n",
      "Feature: 4, Score: 0.05739\n",
      "Feature: 5, Score: 0.08102\n",
      "Feature: 6, Score: 0.04705\n",
      "Feature: 7, Score: 0.09095\n",
      "Feature: 8, Score: 0.42038\n",
      "Feature: 9, Score: 0.00575\n",
      "Feature: 10, Score: 0.01494\n",
      "Feature: 11, Score: 0.01527\n",
      "Feature: 12, Score: 0.02387\n",
      "Feature: 13, Score: 0.02418\n",
      "Feature: 14, Score: 0.00723\n",
      "Feature: 15, Score: 0.00415\n",
      "Feature: 16, Score: 0.00454\n",
      "Feature: 17, Score: 0.00075\n",
      "Feature: 18, Score: 0.00512\n",
      "Feature: 19, Score: 0.00304\n",
      "Feature: 20, Score: 0.00838\n",
      "Feature: 21, Score: 0.01226\n",
      "Feature: 22, Score: 0.02291\n",
      "Feature: 23, Score: 0.00394\n",
      "Feature: 24, Score: 0.00785\n",
      "Feature: 25, Score: 0.00767\n",
      "Feature: 26, Score: 0.00026\n",
      "Feature: 27, Score: 0.00791\n"
     ]
    },
    {
     "data": {
      "image/png": "[encoded data removed]",
      "text/plain": [
       "<Figure size 432x288 with 1 Axes>"
      ]
     },
     "metadata": {
      "needs_background": "light"
     },
     "output_type": "display_data"
    }
   ],
   "source": [
    "# Get importance\n",
    "importance = Op_rfc.feature_importances_\n",
    "# Summarize feature importance\n",
    "for i,v in enumerate(importance):\n",
    "    print('Feature: %0d, Score: %.5f' % (i,v))\n",
    "# plot feature importance\n",
    "plt.bar([x for x in range(len(importance))], importance)\n",
    "plt.show()"
   ]
  },
  {
   "cell_type": "markdown",
   "id": "876f9659",
   "metadata": {},
   "source": [
    "Feature 8 (PageValues) is the highest among all"
   ]
  },
  {
   "cell_type": "markdown",
   "id": "14cc30e0",
   "metadata": {},
   "source": [
    "__21. Train and tune another decision-tree based model on your training dataset. Using the best performing hyperparameters, test this model on your holdout. How did it perform, compared to your earlier model? Do you think your results will generalize?__"
   ]
  },
  {
   "cell_type": "code",
   "execution_count": 114,
   "id": "3166261f",
   "metadata": {},
   "outputs": [
    {
     "data": {
      "text/plain": [
       "GridSearchCV(cv=5, estimator=GradientBoostingClassifier(), n_jobs=-1,\n",
       "             param_grid={'max_depth': [55, 60, 65],\n",
       "                         'min_samples_leaf': [12, 15, 17],\n",
       "                         'min_samples_split': [5, 6, 7],\n",
       "                         'n_estimators': [135, 140, 145]})"
      ]
     },
     "execution_count": 114,
     "metadata": {},
     "output_type": "execute_result"
    }
   ],
   "source": [
    "gbc =  GradientBoostingClassifier()\n",
    "param_grid = {'n_estimators': [135,140,145],\n",
    "                  'min_samples_leaf': [12,15,17],\n",
    "                  'max_depth': [55,60,65],\n",
    "                  'min_samples_split': [5,6,7]} \n",
    "\n",
    "X_train, X_test, y_train, y_test = train_test_split(X_balanced, y_balanced, test_size=0.3)\n",
    "CV_gbc = ms.GridSearchCV(estimator=gbc, param_grid=param_grid, cv= 5, n_jobs = -1)\n",
    "CV_gbc.fit(X_train, y_train)"
   ]
  },
  {
   "cell_type": "code",
   "execution_count": 59,
   "id": "0fe68e4e",
   "metadata": {},
   "outputs": [
    {
     "data": {
      "text/plain": [
       "{'max_depth': 55,\n",
       " 'min_samples_leaf': 17,\n",
       " 'min_samples_split': 5,\n",
       " 'n_estimators': 135}"
      ]
     },
     "execution_count": 59,
     "metadata": {},
     "output_type": "execute_result"
    }
   ],
   "source": [
    "CV_gbc.best_params_"
   ]
  },
  {
   "cell_type": "code",
   "execution_count": 115,
   "id": "4d0b248e",
   "metadata": {},
   "outputs": [
    {
     "name": "stdout",
     "output_type": "stream",
     "text": [
      "Grandient Boosting Performance on test set:\n",
      "--------------------------------\n",
      "Accuracy        :  0.8530092592592593\n",
      "F1 Score        :  0.8558456299659478\n",
      "Precision       :  0.835920177383592\n",
      "Recall          :  0.8767441860465116\n"
     ]
    }
   ],
   "source": [
    "# Test set performance\n",
    "Op_gbc = GradientBoostingClassifier(max_depth=55, min_samples_leaf=17, min_samples_split=5, n_estimators=135)\n",
    "Op_gbc.fit(X_train,y_train)\n",
    "\n",
    "Op_gbc_pre = Op_gbc.predict(X_test)\n",
    "\n",
    "print('Grandient Boosting Performance on test set:')\n",
    "print('--------------------------------')\n",
    "print('Accuracy        : ', metrics.accuracy_score(y_test, Op_gbc_pre))\n",
    "print('F1 Score        : ', metrics.f1_score(y_test, Op_gbc_pre))\n",
    "print('Precision       : ', metrics.precision_score(y_test, Op_gbc_pre))\n",
    "print('Recall          : ', metrics.recall_score(y_test, Op_gbc_pre))"
   ]
  },
  {
   "cell_type": "code",
   "execution_count": 116,
   "id": "cecc276f",
   "metadata": {},
   "outputs": [
    {
     "name": "stdout",
     "output_type": "stream",
     "text": [
      "Grandient Boosting Performance on Holdout:\n",
      "--------------------------------\n",
      "Accuracy        :  0.767052767052767\n",
      "F1 Score        :  0.5761124121779859\n",
      "Precision       :  0.45387453874538747\n",
      "Recall          :  0.7884615384615384\n"
     ]
    }
   ],
   "source": [
    "# Holdout set performance\n",
    "holdout_gbc_pre = Op_gbc.predict(X_holdout)\n",
    "\n",
    "print('Grandient Boosting Performance on Holdout:')\n",
    "print('--------------------------------')\n",
    "print('Accuracy        : ', metrics.accuracy_score(y_holdout, holdout_gbc_pre))\n",
    "print('F1 Score        : ', metrics.f1_score(y_holdout, holdout_gbc_pre))\n",
    "print('Precision       : ', metrics.precision_score(y_holdout, holdout_gbc_pre))\n",
    "print('Recall          : ', metrics.recall_score(y_holdout, holdout_gbc_pre))"
   ]
  },
  {
   "cell_type": "markdown",
   "id": "73ef3b94",
   "metadata": {},
   "source": [
    "The Gradient Boosting Classifier results slightly lower accuracy than the Random Forest Classifier. Since the difference between the prediction based on validation set and holdout set is 10%, I think the the model does overfit (since the split of dataset is problematic), and result can not be considered as generalized."
   ]
  },
  {
   "cell_type": "markdown",
   "id": "b456a972",
   "metadata": {},
   "source": [
    "__22. Next, repeat training and tuning on the same data with a LogisticRegression model. Do you need to do any additional feature cleaning or scaling here? Why or why not?__"
   ]
  },
  {
   "cell_type": "code",
   "execution_count": 163,
   "id": "0f58b6b8",
   "metadata": {},
   "outputs": [
    {
     "name": "stdout",
     "output_type": "stream",
     "text": [
      "Logistic Regression initial Performance:\n",
      "----------------------------------------\n",
      "Accuracy        :  0.7766203703703703\n",
      "F1 Score        :  0.7804323094425484\n",
      "Precision       :  0.7456521739130435\n",
      "Recall          :  0.8186157517899761\n"
     ]
    }
   ],
   "source": [
    "# For now we need to use MinMaxScaler() to scale all features to range [0,1], as otherwise there would be a warning \"bfgs failed to converge (status=1):\n",
    "# STOP: TOTAL NO. of ITERATIONS REACHED LIMIT.\"\n",
    "\n",
    "lrm = LogisticRegression()\n",
    "\n",
    "min_max_scaler = MinMaxScaler()\n",
    "X_train, X_test, y_train, y_test = train_test_split(X_balanced, y_balanced, test_size=0.3)\n",
    "X_train_minmax = min_max_scaler.fit_transform(X_train)\n",
    "X_test_minmax = min_max_scaler.fit_transform(X_test)\n",
    "\n",
    "lrm.fit(X_train_minmax,y_train)\n",
    "lrm_pred = lrm.predict(X_test_minmax)\n",
    "print('Logistic Regression initial Performance:')\n",
    "print('----------------------------------------')\n",
    "print('Accuracy        : ', metrics.accuracy_score(y_test, lrm_pred))\n",
    "print('F1 Score        : ', metrics.f1_score(y_test, lrm_pred))\n",
    "print('Precision       : ', metrics.precision_score(y_test, lrm_pred))\n",
    "print('Recall          : ', metrics.recall_score(y_test, lrm_pred))"
   ]
  },
  {
   "cell_type": "code",
   "execution_count": 164,
   "id": "f0d241db",
   "metadata": {},
   "outputs": [
    {
     "data": {
      "text/plain": [
       "GridSearchCV(estimator=LogisticRegression(), n_jobs=-1,\n",
       "             param_grid={'C': [35, 38, 40, 42, 45],\n",
       "                         'max_iter': [100, 150, 200, 300],\n",
       "                         'solver': ['newton-cg', 'lbfgs', 'saga']})"
      ]
     },
     "execution_count": 164,
     "metadata": {},
     "output_type": "execute_result"
    }
   ],
   "source": [
    "# Tuning the hyperparameters for GridSearchCV\n",
    "\n",
    "lrm_param_grid = {'C': [35, 38, 40, 42, 45],  \n",
    "              'solver': ['newton-cg', 'lbfgs', 'saga'],\n",
    "                 'max_iter': [100, 150, 200, 300]}\n",
    "\n",
    "lrm_grid = ms.GridSearchCV(lrm,\n",
    "                        lrm_param_grid,\n",
    "                        refit=True,\n",
    "                        n_jobs=-1)\n",
    "\n",
    "lrm_grid.fit(X_train_minmax,y_train)"
   ]
  },
  {
   "cell_type": "code",
   "execution_count": 165,
   "id": "6c14591d",
   "metadata": {},
   "outputs": [
    {
     "data": {
      "text/plain": [
       "{'C': 45, 'max_iter': 100, 'solver': 'newton-cg'}"
      ]
     },
     "execution_count": 165,
     "metadata": {},
     "output_type": "execute_result"
    }
   ],
   "source": [
    "lrm_grid.best_params_"
   ]
  },
  {
   "cell_type": "code",
   "execution_count": 166,
   "id": "51681ae1",
   "metadata": {},
   "outputs": [
    {
     "name": "stdout",
     "output_type": "stream",
     "text": [
      "Logistic Regression Tuned Performance on test set:\n",
      "--------------------------------------\n",
      "Accuracy        :  0.8275462962962963\n",
      "F1 Score        :  0.8202653799758746\n",
      "Precision       :  0.8292682926829268\n",
      "Recall          :  0.8114558472553699\n"
     ]
    }
   ],
   "source": [
    "# Test set performance after tunning\n",
    "lrm_grid = LogisticRegression(C=45,solver='newton-cg',max_iter=100)\n",
    "lrm_grid.fit(X_train_minmax,y_train)\n",
    "lrm_grid_pred = lrm_grid.predict(X_test_minmax)\n",
    "\n",
    "print('Logistic Regression Tuned Performance on test set:')\n",
    "print('--------------------------------------')\n",
    "print('Accuracy        : ', metrics.accuracy_score(y_test, lrm_grid_pred))\n",
    "print('F1 Score        : ', metrics.f1_score(y_test, lrm_grid_pred))\n",
    "print('Precision       : ', metrics.precision_score(y_test, lrm_grid_pred))\n",
    "print('Recall          : ', metrics.recall_score(y_test, lrm_grid_pred))"
   ]
  },
  {
   "cell_type": "code",
   "execution_count": 167,
   "id": "e50bdbe2",
   "metadata": {},
   "outputs": [
    {
     "name": "stdout",
     "output_type": "stream",
     "text": [
      "Logistic Regression Tuned Performance on holdout set:\n",
      "--------------------------------------\n",
      "Accuracy        :  0.7906477906477907\n",
      "F1 Score        :  0.6006546644844517\n",
      "Precision       :  0.48673740053050396\n",
      "Recall          :  0.7841880341880342\n"
     ]
    }
   ],
   "source": [
    "# Holdset set performance\n",
    "X_holdout_minmax = min_max_scaler.fit_transform(X_holdout)\n",
    "lrm_grid_pred_holdout = lrm_grid.predict(X_holdout_minmax)\n",
    "\n",
    "print('Logistic Regression Tuned Performance on holdout set:')\n",
    "print('--------------------------------------')\n",
    "print('Accuracy        : ', metrics.accuracy_score(y_holdout, lrm_grid_pred_holdout))\n",
    "print('F1 Score        : ', metrics.f1_score(y_holdout, lrm_grid_pred_holdout))\n",
    "print('Precision       : ', metrics.precision_score(y_holdout, lrm_grid_pred_holdout))\n",
    "print('Recall          : ', metrics.recall_score(y_holdout, lrm_grid_pred_holdout))"
   ]
  },
  {
   "cell_type": "markdown",
   "id": "ed392f01",
   "metadata": {},
   "source": [
    "__Some thinking about the paper__"
   ]
  },
  {
   "cell_type": "markdown",
   "id": "0f47ebbb",
   "metadata": {},
   "source": [
    "In the paper, the author uses random forest, support vector machines ,and multilayer perceptron for training. As a result, the MLP classifier has a higher accuracy comparing to the rest classifiers. It is interesting to see that the results of these three algorithms improved magnificantly by equalize the samples with oversampling (TPR and F1 score from around 0.5 to 0.8). The feature selection proccess is also a new idea for me, and it seems important for data cleaning. The applied of feature ranking method called minimum redundancy–maximum relevance is inspiring, as it provided a way to choose a subset of session information-based data and clickstream-based data to reduce feature correlation and improve the accuracy. "
   ]
  }
 ],
 "metadata": {
  "kernelspec": {
   "display_name": "Python 3 (ipykernel)",
   "language": "python",
   "name": "python3"
  },
  "language_info": {
   "codemirror_mode": {
    "name": "ipython",
    "version": 3
   },
   "file_extension": ".py",
   "mimetype": "text/x-python",
   "name": "python",
   "nbconvert_exporter": "python",
   "pygments_lexer": "ipython3",
   "version": "3.9.7"
  }
 },
 "nbformat": 4,
 "nbformat_minor": 5
}
